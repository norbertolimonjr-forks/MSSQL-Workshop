{
    "metadata": {
        "kernelspec": {
            "name": "SQL",
            "display_name": "SQL",
            "language": "sql"
        },
        "language_info": {
            "name": "sql",
            "version": ""
        }
    },
    "nbformat_minor": 2,
    "nbformat": 4,
    "cells": [
        {
            "cell_type": "markdown",
            "source": [
                "# SQL Server 2019 Data Virtualization - Using Polybase to query Azure SQL Database\r\n",
                "This notebook contains an example of how to use external tables to query data in Azure SQL Database without moving data. You may need to change identity, secret, connection, database, schema, and remote table names to work with your Azure SQL Database.\r\n",
                "\r\n",
                "This notebook also assumes you are using SQL Server 2019 Release Candidate or later and that the Polybase feature has been installed and enabled.\r\n",
                "\r\n",
                "This notebook uses the sample WideWorldImporters sample database but can be used with any user database."
            ],
            "metadata": {
                "azdata_cell_guid": "412dfc1e-a714-4f01-aeb5-ef0dde626c7d"
            }
        },
        {
            "cell_type": "markdown",
            "source": [
                "## Step 0: Create a database in Azure SQL, table, and add data\r\n",
                "\r\n",
                "Create a database in Azure SQL called **wwiazure**. Execute the following T-SQL to create a table and insert a row in the database\r\n",
                "\r\n",
                "```sql\r\n",
                "DROP TABLE IF EXISTS [ModernStockItems]\r\n",
                "GO\r\n",
                "CREATE TABLE [ModernStockItems](\r\n",
                "\t[StockItemID] [int] NOT NULL,\r\n",
                "\t[StockItemName] [nvarchar](100) COLLATE Latin1_General_100_CI_AS NOT NULL,\r\n",
                "\t[SupplierID] [int] NOT NULL,\r\n",
                "\t[ColorID] [int] NULL,\r\n",
                "\t[UnitPackageID] [int] NOT NULL,\r\n",
                "\t[OuterPackageID] [int] NOT NULL,\r\n",
                "\t[Brand] [nvarchar](50) COLLATE Latin1_General_100_CI_AS NULL,\r\n",
                "\t[Size] [nvarchar](20) COLLATE Latin1_General_100_CI_AS NULL,\r\n",
                "\t[LeadTimeDays] [int] NOT NULL,\r\n",
                "\t[QuantityPerOuter] [int] NOT NULL,\r\n",
                "\t[IsChillerStock] [bit] NOT NULL,\r\n",
                "\t[Barcode] [nvarchar](50) COLLATE Latin1_General_100_CI_AS NULL,\r\n",
                "\t[TaxRate] [decimal](18, 3) NOT NULL,\r\n",
                "\t[UnitPrice] [decimal](18, 2) NOT NULL,\r\n",
                "\t[RecommendedRetailPrice] [decimal](18, 2) NULL,\r\n",
                "\t[TypicalWeightPerUnit] [decimal](18, 3) NOT NULL,\r\n",
                "\t[LastEditedBy] [int] NOT NULL,\r\n",
                "CONSTRAINT [PK_Warehouse_StockItems] PRIMARY KEY CLUSTERED \r\n",
                "(\r\n",
                "\t[StockItemID] ASC\r\n",
                ")\r\n",
                ")\r\n",
                "GO\r\n",
                "-- Now insert some data. We don't coordinate with unique keys in WWI on SQL Server\r\n",
                "-- so pick numbers way larger than exist in the current StockItems in WWI which is only 227\r\n",
                "INSERT INTO ModernStockItems VALUES\r\n",
                "(100000,\r\n",
                "'Dallas Cowboys Jersey',\r\n",
                "5,\r\n",
                "4, -- Blue\r\n",
                "4, -- Box\r\n",
                "4, -- Bob\r\n",
                "'Under Armour',\r\n",
                "'L',\r\n",
                "30,\r\n",
                "1,\r\n",
                "0,\r\n",
                "'123456789',\r\n",
                "2.0,\r\n",
                "50,\r\n",
                "75,\r\n",
                "2.0,\r\n",
                "1\r\n",
                ")\r\n",
                "GO```\r\n",
                ""
            ],
            "metadata": {
                "azdata_cell_guid": "cd8d3616-4164-4a3c-9cbc-36dc2b82e34a"
            }
        },
        {
            "cell_type": "markdown",
            "source": [
                "## Step 1: Create a master key\r\n",
                "Create a master key to encrypt the database credential"
            ],
            "metadata": {
                "azdata_cell_guid": "36f8b63f-f989-47fd-905f-7c5707e0f7fd"
            }
        },
        {
            "cell_type": "code",
            "source": [
                "USE [WideWorldImporters]\r\n",
                "GO\r\n",
                "CREATE MASTER KEY ENCRYPTION BY PASSWORD = '<password>'\r\n",
                "GO"
            ],
            "metadata": {
                "azdata_cell_guid": "19a32a92-ec3f-49ae-aa3c-ea50a8a914b2"
            },
            "outputs": [
                {
                    "output_type": "display_data",
                    "data": {
                        "text/html": "Commands completed successfully."
                    },
                    "metadata": {}
                },
                {
                    "output_type": "display_data",
                    "data": {
                        "text/html": "Commands completed successfully."
                    },
                    "metadata": {}
                },
                {
                    "output_type": "display_data",
                    "data": {
                        "text/html": "Total execution time: 00:00:00.014"
                    },
                    "metadata": {}
                }
            ],
            "execution_count": 2
        },
        {
            "cell_type": "markdown",
            "source": [
                "## Step 2: Create a database credential.\r\n",
                "The database credential contains the IDENTITY (login) and SECRET (password) of the remote Azure SQL Database server or Managed Instance. Change this to the login and password for your server."
            ],
            "metadata": {
                "azdata_cell_guid": "91f196a7-67f4-43cd-b7a7-943474c788b9"
            }
        },
        {
            "cell_type": "code",
            "source": [
                "CREATE DATABASE SCOPED CREDENTIAL AzureSQLDatabaseCredentials   \r\n",
                "WITH IDENTITY = '<login>', SECRET = '<password>'\r\n",
                "GO"
            ],
            "metadata": {
                "azdata_cell_guid": "b2f1ec1e-6d76-4510-85fb-1a14c1989490"
            },
            "outputs": [
                {
                    "output_type": "display_data",
                    "data": {
                        "text/html": "Commands completed successfully."
                    },
                    "metadata": {}
                },
                {
                    "output_type": "display_data",
                    "data": {
                        "text/html": "Total execution time: 00:00:00.004"
                    },
                    "metadata": {}
                }
            ],
            "execution_count": 3
        },
        {
            "cell_type": "markdown",
            "source": [
                "## Step 3: Create an EXTERNAL DATA SOURCE\r\n",
                "The EXTERNAL DATA SOURCE indicates what type of data source, the connection \"string\", where PUSHDOWN predicates should be used (if possible), and the name of the database credential.\r\n",
                "\r\n",
                "The LOCATION syntax is <datasourcetype>:<connection string>.\r\n",
                "\r\n",
                "datasourcetype can be sqlserver, oracle, teradata, mongodb, or odbc (Windows only)\r\n",
                "The connection string depends on the datasourcetype\r\n",
                "\r\n",
                "For this example, put in the name of the Azure SQL Server database server or Managed instance"
            ],
            "metadata": {
                "azdata_cell_guid": "4e9960e4-dc9a-47ab-8da1-468762a1b7ef"
            }
        },
        {
            "cell_type": "code",
            "source": [
                "CREATE EXTERNAL DATA SOURCE AzureSQLDatabase\r\n",
                "WITH ( \r\n",
                "LOCATION = 'sqlserver://<server name>.database.windows.net',\r\n",
                "PUSHDOWN = ON,\r\n",
                "CREDENTIAL = AzureSQLDatabaseCredentials\r\n",
                ")\r\n",
                "GO"
            ],
            "metadata": {
                "azdata_cell_guid": "821a3725-a003-4f16-9c6e-a71df376eca3"
            },
            "outputs": [
                {
                    "output_type": "display_data",
                    "data": {
                        "text/html": "Commands completed successfully."
                    },
                    "metadata": {}
                },
                {
                    "output_type": "display_data",
                    "data": {
                        "text/html": "Total execution time: 00:00:00.942"
                    },
                    "metadata": {}
                }
            ],
            "execution_count": 4
        },
        {
            "cell_type": "markdown",
            "source": [
                "## Step 4: Create a schema for the EXTERNAL TABLE\r\n",
                "Schemas provide convenient methods to secure and organize objects"
            ],
            "metadata": {
                "azdata_cell_guid": "479ab414-46f8-4844-967f-3bc958505ada"
            }
        },
        {
            "cell_type": "code",
            "source": [
                "CREATE SCHEMA azuresqldb\r\n",
                "GO"
            ],
            "metadata": {
                "azdata_cell_guid": "3f8b9e0f-2cf3-4226-87c4-eee30f3a23ed"
            },
            "outputs": [
                {
                    "output_type": "display_data",
                    "data": {
                        "text/html": "Commands completed successfully."
                    },
                    "metadata": {}
                },
                {
                    "output_type": "display_data",
                    "data": {
                        "text/html": "Total execution time: 00:00:00.004"
                    },
                    "metadata": {}
                }
            ],
            "execution_count": 5
        },
        {
            "cell_type": "markdown",
            "source": [
                "## Step 5: Create an EXTERNAL TABLE\r\n",
                "An external table provides metadata so SQL Server knows how to map columns to the remote table. The name of the table for the external table can be your choice. But the columns must be specified with the same name as they are defined in the remote table. Furthermore, local data types must be compatible with the remote table.\r\n",
                "\r\n",
                "The WITH clause specifies a LOCATION. This LOCATION is different than the EXTERNAL DATA SOURCE. This LOCATION indicates the [database].[schema].[table] of the remote table. The DATA_SOURCE clauses is the name of the EXTERNAL DATA SOURCE you created earlier."
            ],
            "metadata": {
                "azdata_cell_guid": "f0224273-4579-4c7c-bdca-e8cacf7aa3d1"
            }
        },
        {
            "cell_type": "code",
            "source": [
                "CREATE EXTERNAL TABLE azuresqldb.ModernStockItems\r\n",
                "(\r\n",
                "\t[StockItemID] [int] NOT NULL,\r\n",
                "\t[StockItemName] [nvarchar](100) COLLATE Latin1_General_100_CI_AS NOT NULL,\r\n",
                "\t[SupplierID] [int] NOT NULL,\r\n",
                "\t[ColorID] [int] NULL,\r\n",
                "\t[UnitPackageID] [int] NOT NULL,\r\n",
                "\t[OuterPackageID] [int] NOT NULL,\r\n",
                "\t[Brand] [nvarchar](50) COLLATE Latin1_General_100_CI_AS NULL,\r\n",
                "\t[Size] [nvarchar](20) COLLATE Latin1_General_100_CI_AS NULL,\r\n",
                "\t[LeadTimeDays] [int] NOT NULL,\r\n",
                "\t[QuantityPerOuter] [int] NOT NULL,\r\n",
                "\t[IsChillerStock] [bit] NOT NULL,\r\n",
                "\t[Barcode] [nvarchar](50) COLLATE Latin1_General_100_CI_AS NULL,\r\n",
                "\t[TaxRate] [decimal](18, 3) NOT NULL,\r\n",
                "\t[UnitPrice] [decimal](18, 2) NOT NULL,\r\n",
                "\t[RecommendedRetailPrice] [decimal](18, 2) NULL,\r\n",
                "\t[TypicalWeightPerUnit] [decimal](18, 3) NOT NULL,\r\n",
                "\t[LastEditedBy] [int] NOT NULL\r\n",
                ")\r\n",
                " WITH (\r\n",
                " LOCATION='wwiazure.dbo.ModernStockItems',\r\n",
                " DATA_SOURCE=AzureSQLDatabase\r\n",
                ")\r\n",
                "GO"
            ],
            "metadata": {
                "azdata_cell_guid": "54154846-4eb6-445a-980b-17c2beaca255"
            },
            "outputs": [
                {
                    "output_type": "display_data",
                    "data": {
                        "text/html": "Commands completed successfully."
                    },
                    "metadata": {}
                },
                {
                    "output_type": "display_data",
                    "data": {
                        "text/html": "Total execution time: 00:00:01.217"
                    },
                    "metadata": {}
                }
            ],
            "execution_count": 6
        },
        {
            "cell_type": "markdown",
            "source": [
                "## Step 6: Create statistics\r\n",
                "SQL Server allows you to store local statistics about specific columns from the remote table. This can help the query processing to make more efficient plan decisions."
            ],
            "metadata": {
                "azdata_cell_guid": "8be4b3b9-2284-45cb-9941-aadbb1d56ab1"
            }
        },
        {
            "cell_type": "code",
            "source": [
                "CREATE STATISTICS ModernStockItemsStats ON azuresqldb.ModernStockItems ([StockItemID]) WITH FULLSCAN\r\n",
                "GO"
            ],
            "metadata": {
                "azdata_cell_guid": "1fe5ec9e-4b71-4598-a7f0-7d5631977e06"
            },
            "outputs": [
                {
                    "output_type": "display_data",
                    "data": {
                        "text/html": "Commands completed successfully."
                    },
                    "metadata": {}
                },
                {
                    "output_type": "display_data",
                    "data": {
                        "text/html": "Total execution time: 00:00:01.597"
                    },
                    "metadata": {}
                }
            ],
            "execution_count": 7
        },
        {
            "cell_type": "markdown",
            "source": [
                "## Step 7: Try to scan the remote table\r\n",
                "Run a simple query on the EXTERNAL TABLE to scan all rows."
            ],
            "metadata": {
                "azdata_cell_guid": "2a56ae08-7d9b-49a6-b248-21fc58f4f3c9"
            }
        },
        {
            "cell_type": "code",
            "source": [
                "SELECT * FROM azuresqldb.ModernStockItems\r\n",
                "GO"
            ],
            "metadata": {
                "azdata_cell_guid": "bb682367-ef18-4de6-9b97-6f663bd6df19"
            },
            "outputs": [
                {
                    "output_type": "display_data",
                    "data": {
                        "text/html": "(1 row affected)"
                    },
                    "metadata": {}
                },
                {
                    "output_type": "display_data",
                    "data": {
                        "text/html": "Total execution time: 00:00:01.369"
                    },
                    "metadata": {}
                },
                {
                    "output_type": "execute_result",
                    "execution_count": 8,
                    "data": {
                        "application/vnd.dataresource+json": {
                            "schema": {
                                "fields": [
                                    {
                                        "name": "StockItemID"
                                    },
                                    {
                                        "name": "StockItemName"
                                    },
                                    {
                                        "name": "SupplierID"
                                    },
                                    {
                                        "name": "ColorID"
                                    },
                                    {
                                        "name": "UnitPackageID"
                                    },
                                    {
                                        "name": "OuterPackageID"
                                    },
                                    {
                                        "name": "Brand"
                                    },
                                    {
                                        "name": "Size"
                                    },
                                    {
                                        "name": "LeadTimeDays"
                                    },
                                    {
                                        "name": "QuantityPerOuter"
                                    },
                                    {
                                        "name": "IsChillerStock"
                                    },
                                    {
                                        "name": "Barcode"
                                    },
                                    {
                                        "name": "TaxRate"
                                    },
                                    {
                                        "name": "UnitPrice"
                                    },
                                    {
                                        "name": "RecommendedRetailPrice"
                                    },
                                    {
                                        "name": "TypicalWeightPerUnit"
                                    },
                                    {
                                        "name": "LastEditedBy"
                                    }
                                ]
                            },
                            "data": [
                                {
                                    "0": "100000",
                                    "1": "Dallas Cowboys Jersey",
                                    "2": "5",
                                    "3": "4",
                                    "4": "4",
                                    "5": "4",
                                    "6": "Under Armour",
                                    "7": "L",
                                    "8": "30",
                                    "9": "1",
                                    "10": "0",
                                    "11": "123456789",
                                    "12": "2.000",
                                    "13": "50.00",
                                    "14": "75.00",
                                    "15": "2.000",
                                    "16": "1"
                                }
                            ]
                        },
                        "text/html": "<table><tr><th>StockItemID</th><th>StockItemName</th><th>SupplierID</th><th>ColorID</th><th>UnitPackageID</th><th>OuterPackageID</th><th>Brand</th><th>Size</th><th>LeadTimeDays</th><th>QuantityPerOuter</th><th>IsChillerStock</th><th>Barcode</th><th>TaxRate</th><th>UnitPrice</th><th>RecommendedRetailPrice</th><th>TypicalWeightPerUnit</th><th>LastEditedBy</th></tr><tr><td>100000</td><td>Dallas Cowboys Jersey</td><td>5</td><td>4</td><td>4</td><td>4</td><td>Under Armour</td><td>L</td><td>30</td><td>1</td><td>0</td><td>123456789</td><td>2.000</td><td>50.00</td><td>75.00</td><td>2.000</td><td>1</td></tr></table>"
                    },
                    "metadata": {}
                }
            ],
            "execution_count": 8
        },
        {
            "cell_type": "markdown",
            "source": [
                "## Step 8: Query the remote table with a WHERE clause\r\n",
                "Even though the table may be small SQL Server will \"push\" the WHERE clause filter to the remote table"
            ],
            "metadata": {
                "azdata_cell_guid": "539c8798-1cfe-4892-911d-48a28b3b8db3"
            }
        },
        {
            "cell_type": "code",
            "source": [
                "SELECT * FROM azuresqldb.ModernStockItems WHERE StockItemID = 100000\r\n",
                "GO"
            ],
            "metadata": {
                "azdata_cell_guid": "62972697-b63b-40af-9431-c413fc001996"
            },
            "outputs": [
                {
                    "output_type": "display_data",
                    "data": {
                        "text/html": "(1 row affected)"
                    },
                    "metadata": {}
                },
                {
                    "output_type": "display_data",
                    "data": {
                        "text/html": "Total execution time: 00:00:01.612"
                    },
                    "metadata": {}
                },
                {
                    "output_type": "execute_result",
                    "execution_count": 9,
                    "data": {
                        "application/vnd.dataresource+json": {
                            "schema": {
                                "fields": [
                                    {
                                        "name": "StockItemID"
                                    },
                                    {
                                        "name": "StockItemName"
                                    },
                                    {
                                        "name": "SupplierID"
                                    },
                                    {
                                        "name": "ColorID"
                                    },
                                    {
                                        "name": "UnitPackageID"
                                    },
                                    {
                                        "name": "OuterPackageID"
                                    },
                                    {
                                        "name": "Brand"
                                    },
                                    {
                                        "name": "Size"
                                    },
                                    {
                                        "name": "LeadTimeDays"
                                    },
                                    {
                                        "name": "QuantityPerOuter"
                                    },
                                    {
                                        "name": "IsChillerStock"
                                    },
                                    {
                                        "name": "Barcode"
                                    },
                                    {
                                        "name": "TaxRate"
                                    },
                                    {
                                        "name": "UnitPrice"
                                    },
                                    {
                                        "name": "RecommendedRetailPrice"
                                    },
                                    {
                                        "name": "TypicalWeightPerUnit"
                                    },
                                    {
                                        "name": "LastEditedBy"
                                    }
                                ]
                            },
                            "data": [
                                {
                                    "0": "100000",
                                    "1": "Dallas Cowboys Jersey",
                                    "2": "5",
                                    "3": "4",
                                    "4": "4",
                                    "5": "4",
                                    "6": "Under Armour",
                                    "7": "L",
                                    "8": "30",
                                    "9": "1",
                                    "10": "0",
                                    "11": "123456789",
                                    "12": "2.000",
                                    "13": "50.00",
                                    "14": "75.00",
                                    "15": "2.000",
                                    "16": "1"
                                }
                            ]
                        },
                        "text/html": "<table><tr><th>StockItemID</th><th>StockItemName</th><th>SupplierID</th><th>ColorID</th><th>UnitPackageID</th><th>OuterPackageID</th><th>Brand</th><th>Size</th><th>LeadTimeDays</th><th>QuantityPerOuter</th><th>IsChillerStock</th><th>Barcode</th><th>TaxRate</th><th>UnitPrice</th><th>RecommendedRetailPrice</th><th>TypicalWeightPerUnit</th><th>LastEditedBy</th></tr><tr><td>100000</td><td>Dallas Cowboys Jersey</td><td>5</td><td>4</td><td>4</td><td>4</td><td>Under Armour</td><td>L</td><td>30</td><td>1</td><td>0</td><td>123456789</td><td>2.000</td><td>50.00</td><td>75.00</td><td>2.000</td><td>1</td></tr></table>"
                    },
                    "metadata": {}
                }
            ],
            "execution_count": 9
        },
        {
            "cell_type": "markdown",
            "source": [
                "## Step 9: Join with local SQL Server tables\r\n",
                "Use a UNION to find all stockitems for a specific supplier both locally and in the Azure table"
            ],
            "metadata": {
                "azdata_cell_guid": "2c39cabc-ccc7-465f-aae0-ff02b46824d6"
            }
        },
        {
            "cell_type": "code",
            "source": [
                "SELECT msi.StockItemName, msi.Brand, c.ColorName\r\n",
                "FROM azuresqldb.ModernStockItems msi\r\n",
                "JOIN [Purchasing].[Suppliers] s\r\n",
                "ON msi.SupplierID = s.SupplierID\r\n",
                "and s.SupplierName = 'Graphic Design Institute'\r\n",
                "JOIN [Warehouse].[Colors] c\r\n",
                "ON msi.ColorID = c.ColorID\r\n",
                "UNION\r\n",
                "SELECT si.StockItemName, si.Brand, c.ColorName\r\n",
                "FROM [Warehouse].[StockItems] si\r\n",
                "JOIN [Purchasing].[Suppliers] s\r\n",
                "ON si.SupplierID = s.SupplierID\r\n",
                "and s.SupplierName = 'Graphic Design Institute'\r\n",
                "JOIN [Warehouse].[Colors] c\r\n",
                "ON si.ColorID = c.ColorID\r\n",
                "GO"
            ],
            "metadata": {
                "azdata_cell_guid": "bc07b1da-2ff8-4712-8685-40d5aef896a3"
            },
            "outputs": [
                {
                    "output_type": "display_data",
                    "data": {
                        "text/html": "(43 rows affected)"
                    },
                    "metadata": {}
                },
                {
                    "output_type": "display_data",
                    "data": {
                        "text/html": "Total execution time: 00:00:00.306"
                    },
                    "metadata": {}
                },
                {
                    "output_type": "execute_result",
                    "execution_count": 10,
                    "data": {
                        "application/vnd.dataresource+json": {
                            "schema": {
                                "fields": [
                                    {
                                        "name": "StockItemName"
                                    },
                                    {
                                        "name": "Brand"
                                    },
                                    {
                                        "name": "ColorName"
                                    }
                                ]
                            },
                            "data": [
                                {
                                    "0": "Dallas Cowboys Jersey",
                                    "1": "Under Armour",
                                    "2": "Blue"
                                },
                                {
                                    "0": "DBA joke mug - daaaaaa-ta (Black)",
                                    "1": "NULL",
                                    "2": "Black"
                                },
                                {
                                    "0": "DBA joke mug - daaaaaa-ta (White)",
                                    "1": "NULL",
                                    "2": "White"
                                },
                                {
                                    "0": "DBA joke mug - I will get you in order (Black)",
                                    "1": "NULL",
                                    "2": "Black"
                                },
                                {
                                    "0": "DBA joke mug - I will get you in order (White)",
                                    "1": "NULL",
                                    "2": "White"
                                },
                                {
                                    "0": "DBA joke mug - it depends (Black)",
                                    "1": "NULL",
                                    "2": "Black"
                                },
                                {
                                    "0": "DBA joke mug - it depends (White)",
                                    "1": "NULL",
                                    "2": "White"
                                },
                                {
                                    "0": "DBA joke mug - mind if I join you? (Black)",
                                    "1": "NULL",
                                    "2": "Black"
                                },
                                {
                                    "0": "DBA joke mug - mind if I join you? (White)",
                                    "1": "NULL",
                                    "2": "White"
                                },
                                {
                                    "0": "DBA joke mug - SELECT caffeine FROM mug (Black)",
                                    "1": "NULL",
                                    "2": "Black"
                                },
                                {
                                    "0": "DBA joke mug - SELECT caffeine FROM mug (White)",
                                    "1": "NULL",
                                    "2": "White"
                                },
                                {
                                    "0": "DBA joke mug - two types of DBAs (Black)",
                                    "1": "NULL",
                                    "2": "Black"
                                },
                                {
                                    "0": "DBA joke mug - two types of DBAs (White)",
                                    "1": "NULL",
                                    "2": "White"
                                },
                                {
                                    "0": "DBA joke mug - you might be a DBA if (Black)",
                                    "1": "NULL",
                                    "2": "Black"
                                },
                                {
                                    "0": "DBA joke mug - you might be a DBA if (White)",
                                    "1": "NULL",
                                    "2": "White"
                                },
                                {
                                    "0": "Developer joke mug - (hip, hip, array) (Black)",
                                    "1": "NULL",
                                    "2": "Black"
                                },
                                {
                                    "0": "Developer joke mug - (hip, hip, array) (White)",
                                    "1": "NULL",
                                    "2": "White"
                                },
                                {
                                    "0": "Developer joke mug - a foo walks into a bar (Black)",
                                    "1": "NULL",
                                    "2": "Black"
                                },
                                {
                                    "0": "Developer joke mug - a foo walks into a bar (White)",
                                    "1": "NULL",
                                    "2": "White"
                                },
                                {
                                    "0": "Developer joke mug - fun was unexpected at this time (Black)",
                                    "1": "NULL",
                                    "2": "Black"
                                },
                                {
                                    "0": "Developer joke mug - fun was unexpected at this time (White)",
                                    "1": "NULL",
                                    "2": "White"
                                },
                                {
                                    "0": "Developer joke mug - inheritance is the OO way to become wealthy (Black)",
                                    "1": "NULL",
                                    "2": "Black"
                                },
                                {
                                    "0": "Developer joke mug - inheritance is the OO way to become wealthy (White)",
                                    "1": "NULL",
                                    "2": "White"
                                },
                                {
                                    "0": "Developer joke mug - Oct 31 = Dec 25 (Black)",
                                    "1": "NULL",
                                    "2": "Black"
                                },
                                {
                                    "0": "Developer joke mug - Oct 31 = Dec 25 (White)",
                                    "1": "NULL",
                                    "2": "White"
                                },
                                {
                                    "0": "Developer joke mug - old C developers never die (Black)",
                                    "1": "NULL",
                                    "2": "Black"
                                },
                                {
                                    "0": "Developer joke mug - old C developers never die (White)",
                                    "1": "NULL",
                                    "2": "White"
                                },
                                {
                                    "0": "Developer joke mug - that's a hardware problem (Black)",
                                    "1": "NULL",
                                    "2": "Black"
                                },
                                {
                                    "0": "Developer joke mug - that's a hardware problem (White)",
                                    "1": "NULL",
                                    "2": "White"
                                },
                                {
                                    "0": "Developer joke mug - there are 10 types of people in the world (Black)",
                                    "1": "NULL",
                                    "2": "Black"
                                },
                                {
                                    "0": "Developer joke mug - there are 10 types of people in the world (White)",
                                    "1": "NULL",
                                    "2": "White"
                                },
                                {
                                    "0": "Developer joke mug - this code was generated by a tool (Black)",
                                    "1": "NULL",
                                    "2": "Black"
                                },
                                {
                                    "0": "Developer joke mug - this code was generated by a tool (White)",
                                    "1": "NULL",
                                    "2": "White"
                                },
                                {
                                    "0": "Developer joke mug - understanding recursion requires understanding recursion (Black)",
                                    "1": "NULL",
                                    "2": "Black"
                                },
                                {
                                    "0": "Developer joke mug - understanding recursion requires understanding recursion (White)",
                                    "1": "NULL",
                                    "2": "White"
                                },
                                {
                                    "0": "Developer joke mug - when your hammer is C++ (Black)",
                                    "1": "NULL",
                                    "2": "Black"
                                },
                                {
                                    "0": "Developer joke mug - when your hammer is C++ (White)",
                                    "1": "NULL",
                                    "2": "White"
                                },
                                {
                                    "0": "IT joke mug - hardware: part of the computer that can be kicked (Black)",
                                    "1": "NULL",
                                    "2": "Black"
                                },
                                {
                                    "0": "IT joke mug - hardware: part of the computer that can be kicked (White)",
                                    "1": "NULL",
                                    "2": "White"
                                },
                                {
                                    "0": "IT joke mug - keyboard not found … press F1 to continue (Black)",
                                    "1": "NULL",
                                    "2": "Black"
                                },
                                {
                                    "0": "IT joke mug - keyboard not found … press F1 to continue (White)",
                                    "1": "NULL",
                                    "2": "White"
                                },
                                {
                                    "0": "IT joke mug - that behavior is by design (Black)",
                                    "1": "NULL",
                                    "2": "Black"
                                },
                                {
                                    "0": "IT joke mug - that behavior is by design (White)",
                                    "1": "NULL",
                                    "2": "White"
                                }
                            ]
                        },
                        "text/html": "<table><tr><th>StockItemName</th><th>Brand</th><th>ColorName</th></tr><tr><td>Dallas Cowboys Jersey</td><td>Under Armour</td><td>Blue</td></tr><tr><td>DBA joke mug - daaaaaa-ta (Black)</td><td>NULL</td><td>Black</td></tr><tr><td>DBA joke mug - daaaaaa-ta (White)</td><td>NULL</td><td>White</td></tr><tr><td>DBA joke mug - I will get you in order (Black)</td><td>NULL</td><td>Black</td></tr><tr><td>DBA joke mug - I will get you in order (White)</td><td>NULL</td><td>White</td></tr><tr><td>DBA joke mug - it depends (Black)</td><td>NULL</td><td>Black</td></tr><tr><td>DBA joke mug - it depends (White)</td><td>NULL</td><td>White</td></tr><tr><td>DBA joke mug - mind if I join you? (Black)</td><td>NULL</td><td>Black</td></tr><tr><td>DBA joke mug - mind if I join you? (White)</td><td>NULL</td><td>White</td></tr><tr><td>DBA joke mug - SELECT caffeine FROM mug (Black)</td><td>NULL</td><td>Black</td></tr><tr><td>DBA joke mug - SELECT caffeine FROM mug (White)</td><td>NULL</td><td>White</td></tr><tr><td>DBA joke mug - two types of DBAs (Black)</td><td>NULL</td><td>Black</td></tr><tr><td>DBA joke mug - two types of DBAs (White)</td><td>NULL</td><td>White</td></tr><tr><td>DBA joke mug - you might be a DBA if (Black)</td><td>NULL</td><td>Black</td></tr><tr><td>DBA joke mug - you might be a DBA if (White)</td><td>NULL</td><td>White</td></tr><tr><td>Developer joke mug - (hip, hip, array) (Black)</td><td>NULL</td><td>Black</td></tr><tr><td>Developer joke mug - (hip, hip, array) (White)</td><td>NULL</td><td>White</td></tr><tr><td>Developer joke mug - a foo walks into a bar (Black)</td><td>NULL</td><td>Black</td></tr><tr><td>Developer joke mug - a foo walks into a bar (White)</td><td>NULL</td><td>White</td></tr><tr><td>Developer joke mug - fun was unexpected at this time (Black)</td><td>NULL</td><td>Black</td></tr><tr><td>Developer joke mug - fun was unexpected at this time (White)</td><td>NULL</td><td>White</td></tr><tr><td>Developer joke mug - inheritance is the OO way to become wealthy (Black)</td><td>NULL</td><td>Black</td></tr><tr><td>Developer joke mug - inheritance is the OO way to become wealthy (White)</td><td>NULL</td><td>White</td></tr><tr><td>Developer joke mug - Oct 31 = Dec 25 (Black)</td><td>NULL</td><td>Black</td></tr><tr><td>Developer joke mug - Oct 31 = Dec 25 (White)</td><td>NULL</td><td>White</td></tr><tr><td>Developer joke mug - old C developers never die (Black)</td><td>NULL</td><td>Black</td></tr><tr><td>Developer joke mug - old C developers never die (White)</td><td>NULL</td><td>White</td></tr><tr><td>Developer joke mug - that's a hardware problem (Black)</td><td>NULL</td><td>Black</td></tr><tr><td>Developer joke mug - that's a hardware problem (White)</td><td>NULL</td><td>White</td></tr><tr><td>Developer joke mug - there are 10 types of people in the world (Black)</td><td>NULL</td><td>Black</td></tr><tr><td>Developer joke mug - there are 10 types of people in the world (White)</td><td>NULL</td><td>White</td></tr><tr><td>Developer joke mug - this code was generated by a tool (Black)</td><td>NULL</td><td>Black</td></tr><tr><td>Developer joke mug - this code was generated by a tool (White)</td><td>NULL</td><td>White</td></tr><tr><td>Developer joke mug - understanding recursion requires understanding recursion (Black)</td><td>NULL</td><td>Black</td></tr><tr><td>Developer joke mug - understanding recursion requires understanding recursion (White)</td><td>NULL</td><td>White</td></tr><tr><td>Developer joke mug - when your hammer is C++ (Black)</td><td>NULL</td><td>Black</td></tr><tr><td>Developer joke mug - when your hammer is C++ (White)</td><td>NULL</td><td>White</td></tr><tr><td>IT joke mug - hardware: part of the computer that can be kicked (Black)</td><td>NULL</td><td>Black</td></tr><tr><td>IT joke mug - hardware: part of the computer that can be kicked (White)</td><td>NULL</td><td>White</td></tr><tr><td>IT joke mug - keyboard not found … press F1 to continue (Black)</td><td>NULL</td><td>Black</td></tr><tr><td>IT joke mug - keyboard not found … press F1 to continue (White)</td><td>NULL</td><td>White</td></tr><tr><td>IT joke mug - that behavior is by design (Black)</td><td>NULL</td><td>Black</td></tr><tr><td>IT joke mug - that behavior is by design (White)</td><td>NULL</td><td>White</td></tr></table>"
                    },
                    "metadata": {}
                }
            ],
            "execution_count": 10
        },
        {
            "cell_type": "markdown",
            "source": [
                ""
            ],
            "metadata": {
                "azdata_cell_guid": "914d355e-03f8-4317-b246-324b80f159a5"
            }
        }
    ]
}