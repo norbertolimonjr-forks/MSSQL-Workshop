{
    "metadata": {
        "kernelspec": {
            "name": "SQL",
            "display_name": "SQL",
            "language": "sql"
        },
        "language_info": {
            "name": "sql",
            "version": ""
        }
    },
    "nbformat_minor": 2,
    "nbformat": 4,
    "cells": [
        {
            "cell_type": "markdown",
            "source": [
                "# SQL Server 2019 Data Virtualization - Using Polybase to query Sharepoint\r\n",
                "This notebook contains an example of how to use external tables to query data in Sharepoint without moving data. You may need to change identity, secret, connection, database, schema, and remote table names to work with your Sharepoint Server. This example uses Sharepoint Server 2019.\r\n",
                "\r\n",
                "This notebook also assumes you are using SQL Server 2019 Release Candidate or later on Windows, have the Polybase feature has been installed and enabled, and have installed the Sharepiont ODBC Driver from CDATA from http://cdn.cdata.com/help/RSE/odbc/.\r\n",
                "\r\n",
                "This notebook uses the sample WideWorldImporters sample database but can be used with any user database."
            ],
            "metadata": {
                "azdata_cell_guid": "a132bf88-9e4b-4d7f-b3b0-80a2a9eb85c2"
            }
        },
        {
            "cell_type": "markdown",
            "source": [
                "## Step 0: Deploy Sharepoint 2019 Server and create a site\r\n",
                "\r\n",
                "Create a Sharepoint 2019 Server and create a site that can be used as an EXTERNAL DATA SOURCE.\r\n",
                "\r\n",
                "For purposes of this demo create a Sharepoint List which you can substitute the name in the EXTERNAL TABLE LOCATION.\r\n",
                "\r\n",
                ""
            ],
            "metadata": {
                "azdata_cell_guid": "6a0d5b29-abf9-4a21-bd24-6f69b1d51be6"
            }
        },
        {
            "cell_type": "markdown",
            "source": [
                "## Step 1: Create a master key\r\n",
                "Create a master key to encrypt the database credential"
            ],
            "metadata": {
                "azdata_cell_guid": "b1cf1c0f-5c33-424c-b881-0b7a98745c36"
            }
        },
        {
            "cell_type": "code",
            "source": [
                "USE [WideWorldImporters]\r\n",
                "GO\r\n",
                "CREATE MASTER KEY ENCRYPTION BY PASSWORD = '<password>'\r\n",
                "GO"
            ],
            "metadata": {
                "azdata_cell_guid": "2e0e1e84-31f0-470a-8794-f371f6db9ce6"
            },
            "outputs": [
                {
                    "output_type": "display_data",
                    "data": {
                        "text/html": "Commands completed successfully."
                    },
                    "metadata": {}
                },
                {
                    "output_type": "display_data",
                    "data": {
                        "text/html": "Commands completed successfully."
                    },
                    "metadata": {}
                },
                {
                    "output_type": "display_data",
                    "data": {
                        "text/html": "Total execution time: 00:00:00.016"
                    },
                    "metadata": {}
                }
            ],
            "execution_count": 14
        },
        {
            "cell_type": "markdown",
            "source": [
                "## Step 2: Create a database credential\r\n",
                "The database credential contains the IDENTITY (login) and SECRET (password) of an authorized user on the Sharepoint Server."
            ],
            "metadata": {
                "azdata_cell_guid": "53d6bc68-e059-42f4-8865-4fb55e53b6ae"
            }
        },
        {
            "cell_type": "code",
            "source": [
                "CREATE DATABASE SCOPED CREDENTIAL SharepointCredentials   \r\n",
                "WITH IDENTITY = '<sharepoint user>', Secret = '<sharepoint user password>'\r\n",
                "GO"
            ],
            "metadata": {
                "azdata_cell_guid": "360ef112-58c3-4f4c-9804-45b96126437d"
            },
            "outputs": [
                {
                    "output_type": "display_data",
                    "data": {
                        "text/html": "Commands completed successfully."
                    },
                    "metadata": {}
                },
                {
                    "output_type": "display_data",
                    "data": {
                        "text/html": "Total execution time: 00:00:00.005"
                    },
                    "metadata": {}
                }
            ],
            "execution_count": 15
        },
        {
            "cell_type": "markdown",
            "source": [
                "## Step 3: Create an EXTERNAL DATA SOURCE\r\n",
                "The EXTERNAL DATA SOURCE indicates what type of data source, the connection \"string\", where PUSHDOWN predicates should be used (if possible), and the name of the database credential.\r\n",
                "\r\n",
                "The LOCATION syntax is <datasourcetype>:<connection string>.\r\n",
                "\r\n",
                "datasourcetype can be sqlserver, oracle, teradata, mongodb, or odbc (Windows only)\r\n",
                "The connection string depends on the datasourcetype\r\n",
                "\r\n",
                "Since access to Sharepoint is through an ODBC driver not installed by default, the LOCATION is the name of the host for the Sharepoint Server (or IP Address). Use the CONNECTION_OPTIONS for the ODBC data source connection string including the name of the driver, the name of the host (or IP address), and the Sharepiont Site URL."
            ],
            "metadata": {
                "azdata_cell_guid": "8171c4a2-7465-425a-aff4-0d118e0e8cad"
            }
        },
        {
            "cell_type": "code",
            "source": [
                "CREATE EXTERNAL DATA SOURCE SharepointServer\r\n",
                "WITH ( \r\n",
                "LOCATION = 'odbc://<sharepoint server host ip>',\r\n",
                "CONNECTION_OPTIONS = 'DRIVER={CData ODBC Driver for SharePoint};ServerNode = <sharepoint server host ip>;URL=http://<sharepoint site URL>',\r\n",
                "PUSHDOWN = ON,\r\n",
                "CREDENTIAL = SharepointCredentials\r\n",
                ")\r\n",
                "GO"
            ],
            "metadata": {
                "azdata_cell_guid": "553fbfe9-d382-4d4a-9726-743109f9e1bd"
            },
            "outputs": [
                {
                    "output_type": "display_data",
                    "data": {
                        "text/html": "Commands completed successfully."
                    },
                    "metadata": {}
                },
                {
                    "output_type": "display_data",
                    "data": {
                        "text/html": "Total execution time: 00:00:00.121"
                    },
                    "metadata": {}
                }
            ],
            "execution_count": 16
        },
        {
            "cell_type": "markdown",
            "source": [
                "## Step 4: Create a schema for the EXTERNAL TABLE\r\n",
                "Schemas provide convenient methods to secure and organize objects"
            ],
            "metadata": {
                "azdata_cell_guid": "d21b1a6f-e818-4899-987c-a201ae7ad991"
            }
        },
        {
            "cell_type": "code",
            "source": [
                "CREATE SCHEMA sharepoint\r\n",
                "GO"
            ],
            "metadata": {
                "azdata_cell_guid": "c5b97456-2a47-45bc-938e-d0abc6dafe7b"
            },
            "outputs": [
                {
                    "output_type": "display_data",
                    "data": {
                        "text/html": "Commands completed successfully."
                    },
                    "metadata": {}
                },
                {
                    "output_type": "display_data",
                    "data": {
                        "text/html": "Total execution time: 00:00:00.004"
                    },
                    "metadata": {}
                }
            ],
            "execution_count": 17
        },
        {
            "cell_type": "markdown",
            "source": [
                "## Step 5: Create an EXTERNAL TABLE\r\n",
                "An external table provides metadata so SQL Server knows how to map columns to the remote table. The name of the tables for the external table can be your choice. But the columns must be specified in the same order with the same name as they are defined in the remote table. Furthermore, local data types must be compatible with the remote table.\r\n",
                "\r\n",
                "The WITH clause specifies a LOCATION. This LOCATION is different than the EXTERNAL DATA SOURCE. For Sharepoint using the CDATA driver, the LOCATION is the name of an object you create on the sharepoint site. In this example, you will use a Sharepoint list name. The column names match the field properties of the Sharepoint list name."
            ],
            "metadata": {
                "azdata_cell_guid": "afbba482-8b0d-4aa7-9437-5b6262a3896e"
            }
        },
        {
            "cell_type": "code",
            "source": [
                "CREATE EXTERNAL TABLE sharepoint.keynotelist\r\n",
                "(\r\n",
                "[ID] INT NOT NULL, \r\n",
                "[Version] NVARCHAR(510) COLLATE Latin1_General_100_CI_AS, \r\n",
                "[App Created By] NVARCHAR(4000) COLLATE Latin1_General_100_CI_AS, \r\n",
                "[App Created By_ID] INT, \r\n",
                "[App Modified By] NVARCHAR(4000) COLLATE Latin1_General_100_CI_AS, \r\n",
                "[App Modified By_ID] INT, \r\n",
                "[Attachments] NVARCHAR(4000) COLLATE Latin1_General_100_CI_AS, \r\n",
                "[Created By] NVARCHAR(4000) COLLATE Latin1_General_100_CI_AS, \r\n",
                "[Created By_ID] INT, \r\n",
                "[Compliance Asset Id] NVARCHAR(510) COLLATE Latin1_General_100_CI_AS, \r\n",
                "[Content Type] NVARCHAR(4000) COLLATE Latin1_General_100_CI_AS, \r\n",
                "[Created] DATETIME2(3), \r\n",
                "[Type] NVARCHAR(4000) COLLATE Latin1_General_100_CI_AS, \r\n",
                "[Edit] NVARCHAR(4000) COLLATE Latin1_General_100_CI_AS, \r\n",
                "[Modified By] NVARCHAR(4000) COLLATE Latin1_General_100_CI_AS, \r\n",
                "[Modified By_ID] INT, \r\n",
                "[Folder Child Count] NVARCHAR(4000) COLLATE Latin1_General_100_CI_AS, \r\n",
                "[Folder Child Count_ID] INT, \r\n",
                "[Item Child Count] NVARCHAR(4000) COLLATE Latin1_General_100_CI_AS, \r\n",
                "[Item Child Count_ID] INT, \r\n",
                "[Modified] DATETIME2(3),\r\n",
                "[Owner] NVARCHAR(4000) COLLATE Latin1_General_100_CI_AS,\r\n",
                "[Title] NVARCHAR(510) COLLATE Latin1_General_100_CI_AS\r\n",
                ")\r\n",
                "WITH (\r\n",
                "LOCATION='keynotelist',\r\n",
                "DATA_SOURCE=SharepointServer\r\n",
                ")\r\n",
                "GO"
            ],
            "metadata": {
                "azdata_cell_guid": "9704045c-e15b-4788-bbdb-7d2fb642aa46"
            },
            "outputs": [
                {
                    "output_type": "display_data",
                    "data": {
                        "text/html": "Commands completed successfully."
                    },
                    "metadata": {}
                },
                {
                    "output_type": "display_data",
                    "data": {
                        "text/html": "Total execution time: 00:00:00.296"
                    },
                    "metadata": {}
                }
            ],
            "execution_count": 18
        },
        {
            "cell_type": "markdown",
            "source": [
                "## Step 6: Create statistics\r\n",
                "SQL Server allows you to store local statistics about specific columns from the remote table. This can help the query processing to make more efficient plan decisions."
            ],
            "metadata": {
                "azdata_cell_guid": "0937ad3e-d412-46e7-89b6-d2499bad0dc3"
            }
        },
        {
            "cell_type": "code",
            "source": [
                "CREATE STATISTICS keynoteliststats ON sharepoint.keynotelist ([Owner]) WITH FULLSCAN\r\n",
                "GO"
            ],
            "metadata": {
                "azdata_cell_guid": "c3055cce-cde5-4b03-ab5c-3e984258dd39"
            },
            "outputs": [
                {
                    "output_type": "display_data",
                    "data": {
                        "text/html": "Commands completed successfully."
                    },
                    "metadata": {}
                },
                {
                    "output_type": "display_data",
                    "data": {
                        "text/html": "Total execution time: 00:00:00.413"
                    },
                    "metadata": {}
                }
            ],
            "execution_count": 19
        },
        {
            "cell_type": "markdown",
            "source": [
                "## Step 7: Try to scan the remote table\r\n",
                "Run a simple query on the EXTERNAL TABLE to scan all rows."
            ],
            "metadata": {
                "azdata_cell_guid": "69ebfedb-474a-4051-b5fb-a2778bc14393"
            }
        },
        {
            "cell_type": "code",
            "source": [
                "SELECT Title, Owner FROM sharepoint.keynotelist\r\n",
                "GO"
            ],
            "metadata": {
                "azdata_cell_guid": "26cbb4b9-7808-48e5-9f2f-597ffcf100cb"
            },
            "outputs": [
                {
                    "output_type": "display_data",
                    "data": {
                        "text/html": "(6 rows affected)"
                    },
                    "metadata": {}
                },
                {
                    "output_type": "display_data",
                    "data": {
                        "text/html": "Total execution time: 00:00:00.405"
                    },
                    "metadata": {}
                },
                {
                    "output_type": "execute_result",
                    "execution_count": 20,
                    "data": {
                        "application/vnd.dataresource+json": {
                            "schema": {
                                "fields": [
                                    {
                                        "name": "Title"
                                    },
                                    {
                                        "name": "Owner"
                                    }
                                ]
                            },
                            "data": [
                                {
                                    "0": "Prep keynote demo for PASS",
                                    "1": "Bob Ward"
                                },
                                {
                                    "0": "Order Texas BBQ",
                                    "1": "Conor Cunningham"
                                },
                                {
                                    "0": "Build demo for PASS keynote",
                                    "1": "Bob Ward"
                                },
                                {
                                    "0": "Get Dallas Stars Jerseys",
                                    "1": "Conor Cunningham"
                                },
                                {
                                    "0": "Rehearse final keynote demo for PASS",
                                    "1": "Bob Ward"
                                },
                                {
                                    "0": "Steal Rohan's Seahawks Jersey",
                                    "1": "Conor Cunningham"
                                }
                            ]
                        },
                        "text/html": "<table><tr><th>Title</th><th>Owner</th></tr><tr><td>Prep keynote demo for PASS</td><td>Bob Ward</td></tr><tr><td>Order Texas BBQ</td><td>Conor Cunningham</td></tr><tr><td>Build demo for PASS keynote</td><td>Bob Ward</td></tr><tr><td>Get Dallas Stars Jerseys</td><td>Conor Cunningham</td></tr><tr><td>Rehearse final keynote demo for PASS</td><td>Bob Ward</td></tr><tr><td>Steal Rohan's Seahawks Jersey</td><td>Conor Cunningham</td></tr></table>"
                    },
                    "metadata": {}
                }
            ],
            "execution_count": 20
        },
        {
            "cell_type": "markdown",
            "source": [
                "## Step 8: Filter on a set of rows"
            ],
            "metadata": {
                "azdata_cell_guid": "d762f98f-26b3-4502-94da-f8410daa1fc0"
            }
        },
        {
            "cell_type": "code",
            "source": [
                "SELECT Title, Owner FROM sharepoint.keynotelist\r\n",
                "WHERE Owner = 'Bob Ward'\r\n",
                "GO"
            ],
            "metadata": {
                "azdata_cell_guid": "2af46b74-9906-425c-b63e-8d8f3346a515"
            },
            "outputs": [
                {
                    "output_type": "display_data",
                    "data": {
                        "text/html": "(3 rows affected)"
                    },
                    "metadata": {}
                },
                {
                    "output_type": "display_data",
                    "data": {
                        "text/html": "Total execution time: 00:00:00.401"
                    },
                    "metadata": {}
                },
                {
                    "output_type": "execute_result",
                    "execution_count": 21,
                    "data": {
                        "application/vnd.dataresource+json": {
                            "schema": {
                                "fields": [
                                    {
                                        "name": "Title"
                                    },
                                    {
                                        "name": "Owner"
                                    }
                                ]
                            },
                            "data": [
                                {
                                    "0": "Prep keynote demo for PASS",
                                    "1": "Bob Ward"
                                },
                                {
                                    "0": "Build demo for PASS keynote",
                                    "1": "Bob Ward"
                                },
                                {
                                    "0": "Rehearse final keynote demo for PASS",
                                    "1": "Bob Ward"
                                }
                            ]
                        },
                        "text/html": "<table><tr><th>Title</th><th>Owner</th></tr><tr><td>Prep keynote demo for PASS</td><td>Bob Ward</td></tr><tr><td>Build demo for PASS keynote</td><td>Bob Ward</td></tr><tr><td>Rehearse final keynote demo for PASS</td><td>Bob Ward</td></tr></table>"
                    },
                    "metadata": {}
                }
            ],
            "execution_count": 21
        }
    ]
}