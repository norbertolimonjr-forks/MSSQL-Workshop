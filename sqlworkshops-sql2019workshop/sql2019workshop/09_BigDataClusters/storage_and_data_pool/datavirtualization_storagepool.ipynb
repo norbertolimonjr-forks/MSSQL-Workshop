{
    "metadata": {
        "kernelspec": {
            "name": "SQL",
            "display_name": "SQL",
            "language": "sql"
        },
        "language_info": {
            "name": "sql",
            "version": ""
        }
    },
    "nbformat_minor": 2,
    "nbformat": 4,
    "cells": [
        {
            "cell_type": "markdown",
            "source": [
                "# Using Data Virtualization with the Storage Pool in SQL Server 2019 Big Data Clusters"
            ],
            "metadata": {
                "azdata_cell_guid": "6a8ac746-a9ef-46cf-99d5-d6e0adf9a8fa"
            }
        },
        {
            "cell_type": "markdown",
            "source": [
                "## Step 1: Create an External Data  Source to the Storage Pool"
            ],
            "metadata": {
                "azdata_cell_guid": "5a8ba87f-cc80-428f-ab84-4a5e84bb080f"
            }
        },
        {
            "cell_type": "code",
            "source": [
                "USE sales;\r\n",
                "GO\r\n",
                "IF NOT EXISTS(SELECT * FROM sys.external_data_sources WHERE name = 'SqlStoragePool')\r\n",
                "    CREATE EXTERNAL DATA SOURCE SqlStoragePool\r\n",
                "    WITH (LOCATION = 'sqlhdfs://controller-svc/default');\r\n",
                "GO"
            ],
            "metadata": {
                "azdata_cell_guid": "6cfb4bbd-46d0-4e50-bf83-3d1551a545b0"
            },
            "outputs": [
{
    "output_type": "display_data",
    "data": {
        "text/html": "Commands completed successfully."
    },
    "metadata": {}
}, {
    "output_type": "display_data",
    "data": {
        "text/html": "Commands completed successfully."
    },
    "metadata": {}
}, {
    "output_type": "display_data",
    "data": {
        "text/html": "Total execution time: 00:00:00.005"
    },
    "metadata": {}
}
],
            "execution_count": 1
        },
        {
            "cell_type": "markdown",
            "source": [
                "## Step 2: Create file format for CSV separated file with appropriate properties."
            ],
            "metadata": {
                "azdata_cell_guid": "a3aa3d36-d3d0-49ad-abce-1d13a6db3880"
            }
        },
        {
            "cell_type": "code",
            "source": [
                "IF NOT EXISTS(SELECT * FROM sys.external_file_formats WHERE name = 'csv_file')\n",
                "    CREATE EXTERNAL FILE FORMAT csv_file\n",
                "    WITH (\n",
                "        FORMAT_TYPE = DELIMITEDTEXT,\n",
                "        FORMAT_OPTIONS(\n",
                "            FIELD_TERMINATOR = ',',\n",
                "            STRING_DELIMITER = '\"',\n",
                "            USE_TYPE_DEFAULT = TRUE)\n",
                "    );\n",
                "GO"
            ],
            "metadata": {
                "azdata_cell_guid": "89374c43-1c6b-4323-9ce9-b6b5ddc507b0"
            },
            "outputs": [
{
    "output_type": "display_data",
    "data": {
        "text/html": "Commands completed successfully."
    },
    "metadata": {}
}, {
    "output_type": "display_data",
    "data": {
        "text/html": "Total execution time: 00:00:00.010"
    },
    "metadata": {}
}
],
            "execution_count": 2
        },
        {
            "cell_type": "markdown",
            "source": [
                "## Step 3: Create an external table over HDFS in the Storage Pool\r\n",
                "\r\n",
                "Create external table over HDFS data source (SqlStoragePool) in SQL Server 2019 big data cluster. The SqlStoragePool data source\r\n",
                "is a special data source that is available in any new database in SQL Master instance."
            ],
            "metadata": {
                "azdata_cell_guid": "a0e1c1a4-f117-4f89-8e35-4fcc5e68d8ba"
            }
        },
        {
            "cell_type": "code",
            "source": [
                "IF NOT EXISTS(SELECT * FROM sys.external_tables WHERE name = 'product_reviews_hdfs_csv')\r\n",
                "    CREATE EXTERNAL TABLE [product_reviews_hdfs_csv]\r\n",
                "    (\"pr_review_sk\" BIGINT , \"pr_review_content\" varchar(8000))\r\n",
                "    WITH\r\n",
                "    (\r\n",
                "        DATA_SOURCE = SqlStoragePool,\r\n",
                "        LOCATION = '/product_review_data',\r\n",
                "        FILE_FORMAT = csv_file\r\n",
                "    );\r\n",
                "GO"
            ],
            "metadata": {
                "azdata_cell_guid": "fe3fa4e7-2d39-4005-bd06-0d932de9ec6b"
            },
            "outputs": [
{
    "output_type": "display_data",
    "data": {
        "text/html": "Commands completed successfully."
    },
    "metadata": {}
}, {
    "output_type": "display_data",
    "data": {
        "text/html": "Total execution time: 00:00:00.010"
    },
    "metadata": {}
}
],
            "execution_count": 3
        },
        {
            "cell_type": "markdown",
            "source": [
                "## Step 4: Join the HDFS data with a local SQL Server table"
            ],
            "metadata": {
                "azdata_cell_guid": "7562cbea-fbce-4490-9994-d9f3df2c5e3c"
            }
        },
        {
            "cell_type": "code",
            "source": [
                "SELECT \r\n",
                "    p.pr_review_sk, pc.pr_review_content\r\n",
                "  FROM product_reviews as p\r\n",
                "  JOIN (SELECT TOP(10) * FROM product_reviews_hdfs_csv) AS pc\r\n",
                "    ON pc.pr_review_sk = p.pr_review_sk;\r\n",
                "GO"
            ],
            "metadata": {
                "azdata_cell_guid": "81e124da-1291-4e27-ba28-e5bb5a1afb9b"
            },
            "outputs": [
{
    "output_type": "display_data",
    "data": {
        "text/html": "(10 rows affected)"
    },
    "metadata": {}
}, {
    "output_type": "display_data",
    "data": {
        "text/html": "Total execution time: 00:00:02.591"
    },
    "metadata": {}
}, {
    "output_type": "execute_result",
    "metadata": {},
    "execution_count": 4,
    "data": {
        "application/vnd.dataresource+json": {
            "schema": {
                "fields": [
                    {
                        "name": "pr_review_sk"
                    },
                    {
                        "name": "pr_review_content"
                    }
                ]
            },
            "data": [
                {
                    "0": "72621",
                    "1": "Works fine. Easy to install. Some reviews talk about not fitting wall plates. Designed for the best; while greet dinner guests; smelling stronger than the Vollarth. While the handle's grip is nice on the OXO Good Grips Trigger Ice Cream Scoop purchased recently and this is the same as all the difference in the kitchen. If you cook for living; go for the professional series.\r"
                },
                {
                    "0": "89334",
                    "1": "great product to save money! Dont worry about leaving the light on anymore. It is great for kitchen! My son can help me season our food with out making mess and this fits just fine in the hand and it never dulled; rusted; or got out of shape. Perfect quality and very easy and effortless to use. This blade is ideal for both narrow and wide wedges. The curve at the local Home Depot store. Both seem to work with. In my case fan). It's usually pretty easy to determine which cable is hot (that being said it's always best to check using volt meter between what you think is hot (that being said it's always best to check using volt meter between what you think is hot and the ground wire you obviously should drop power to the OXO the overall build of the other &quot;Waterless&quot; drink coolers that we've had since long before the grated food has seal to prevent leaking while shaking your favorite drink.\r"
                },
                {
                    "0": "89335",
                    "1": "Next time will go with the old metal handle- this is bonus.\r"
                },
                {
                    "0": "84259",
                    "1": "Great Gift Great Value had to get used. And after 12 hours of use; they just throw them away; so you haven't created any useless clutter. (Get yourself set too.)\r"
                },
                {
                    "0": "84398",
                    "1": "After trip to Paris and falling in love with Nutella crepes decided had to try it. am glad found it! Thank you; CIA; for my existing switch. Design-wise it is dishwasher safe too! Very highly recommended. You'll thank me for this!JANA\r"
                },
                {
                    "0": "66434",
                    "1": "Simply the best thing about them is that you can only use for one thing; so this one is wonderful to hold the keys.\r"
                },
                {
                    "0": "66501",
                    "1": "This is the exact product that my mother used in the outlet/switch box. It does exactly what was glad to find so was happy to finally get them. great service. thank you.\r"
                },
                {
                    "0": "66587",
                    "1": "Not super magnet; but strong enough to set on the oven and the spatula is supposed to have; but this one is definitely heavy duty! have placed 15 minute timer on all the time and will certainly provide entertainment for your guests. (It is such great gift in festival's sovenuior such as this to get used. And after 12 hours of use; they just throw them away; so you haven't created any useless clutter. (Get yourself set too.)\r"
                },
                {
                    "0": "66680",
                    "1": "Installed as bathroom fan timer. Easy to install. Some reviews talk about not fitting wall plates. Designed for the plate supplied to fit in my travel trailer where space is at premium. like these and highly recommend it for ice cream; and have the confidence to replace the one I've been using for 12 years. The crusher handle finally broke; but I'm sure it will also come in different maximum number of minutes; and 15 minute version for guest bath and couple of 60 min timers for baths with showers. Installed quiet fans and we can turn on the metal trigger.For baking; ice cream or general use had her order one for period of time after you leave; clearing things up for the exhaust fan off in our bathroom.Saves money on heat and cooling...\r"
                },
                {
                    "0": "66694",
                    "1": "Our home was built in 2003 and this fits just fine in the drawer until find one of those things that if was looking for; good quality; and after months of daily service..\r"
                }
            ]
        },
        "text/html": "<table><tr><th>pr_review_sk</th><th>pr_review_content</th></tr><tr><td>72621</td><td>Works fine. Easy to install. Some reviews talk about not fitting wall plates. Designed for the best; while greet dinner guests; smelling stronger than the Vollarth. While the handle's grip is nice on the OXO Good Grips Trigger Ice Cream Scoop purchased recently and this is the same as all the difference in the kitchen. If you cook for living; go for the professional series.\r</td></tr><tr><td>89334</td><td>great product to save money! Dont worry about leaving the light on anymore. It is great for kitchen! My son can help me season our food with out making mess and this fits just fine in the hand and it never dulled; rusted; or got out of shape. Perfect quality and very easy and effortless to use. This blade is ideal for both narrow and wide wedges. The curve at the local Home Depot store. Both seem to work with. In my case fan). It's usually pretty easy to determine which cable is hot (that being said it's always best to check using volt meter between what you think is hot (that being said it's always best to check using volt meter between what you think is hot and the ground wire you obviously should drop power to the OXO the overall build of the other &amp;quot;Waterless&amp;quot; drink coolers that we've had since long before the grated food has seal to prevent leaking while shaking your favorite drink.\r</td></tr><tr><td>89335</td><td>Next time will go with the old metal handle- this is bonus.\r</td></tr><tr><td>84259</td><td>Great Gift Great Value had to get used. And after 12 hours of use; they just throw them away; so you haven't created any useless clutter. (Get yourself set too.)\r</td></tr><tr><td>84398</td><td>After trip to Paris and falling in love with Nutella crepes decided had to try it. am glad found it! Thank you; CIA; for my existing switch. Design-wise it is dishwasher safe too! Very highly recommended. You'll thank me for this!JANA\r</td></tr><tr><td>66434</td><td>Simply the best thing about them is that you can only use for one thing; so this one is wonderful to hold the keys.\r</td></tr><tr><td>66501</td><td>This is the exact product that my mother used in the outlet/switch box. It does exactly what was glad to find so was happy to finally get them. great service. thank you.\r</td></tr><tr><td>66587</td><td>Not super magnet; but strong enough to set on the oven and the spatula is supposed to have; but this one is definitely heavy duty! have placed 15 minute timer on all the time and will certainly provide entertainment for your guests. (It is such great gift in festival's sovenuior such as this to get used. And after 12 hours of use; they just throw them away; so you haven't created any useless clutter. (Get yourself set too.)\r</td></tr><tr><td>66680</td><td>Installed as bathroom fan timer. Easy to install. Some reviews talk about not fitting wall plates. Designed for the plate supplied to fit in my travel trailer where space is at premium. like these and highly recommend it for ice cream; and have the confidence to replace the one I've been using for 12 years. The crusher handle finally broke; but I'm sure it will also come in different maximum number of minutes; and 15 minute version for guest bath and couple of 60 min timers for baths with showers. Installed quiet fans and we can turn on the metal trigger.For baking; ice cream or general use had her order one for period of time after you leave; clearing things up for the exhaust fan off in our bathroom.Saves money on heat and cooling...\r</td></tr><tr><td>66694</td><td>Our home was built in 2003 and this fits just fine in the drawer until find one of those things that if was looking for; good quality; and after months of daily service..\r</td></tr></table>"
    }
}
],
            "execution_count": 4
        }
    ]
}