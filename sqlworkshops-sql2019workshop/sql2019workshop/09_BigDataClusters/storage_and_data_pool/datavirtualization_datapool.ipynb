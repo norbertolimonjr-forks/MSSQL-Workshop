{
    "metadata": {
        "kernelspec": {
            "name": "SQL",
            "display_name": "SQL",
            "language": "sql"
        },
        "language_info": {
            "name": "sql",
            "version": ""
        }
    },
    "nbformat_minor": 2,
    "nbformat": 4,
    "cells": [
        {
            "cell_type": "markdown",
            "source": [
                "# Using the Data Pool in SQL Server 2019 Big Data Clusters"
            ],
            "metadata": {
                "azdata_cell_guid": "74f3ac3d-3118-4f46-9c38-8627d59fc1bd"
            }
        },
        {
            "cell_type": "markdown",
            "source": [
                "## Step 1: Create the external data source for the data pool"
            ],
            "metadata": {
                "azdata_cell_guid": "703dcd6b-9414-454f-81ed-5aa5097d87da"
            }
        },
        {
            "cell_type": "code",
            "source": [
                "USE sales;\r\n",
                "GO\r\n",
                "IF NOT EXISTS(SELECT * FROM sys.external_data_sources WHERE name = 'SqlDataPool')\r\n",
                "    CREATE EXTERNAL DATA SOURCE SqlDataPool\r\n",
                "    WITH (LOCATION = 'sqldatapool://controller-svc/default');\r\n",
                "GO"
            ],
            "metadata": {
                "azdata_cell_guid": "8158b4b1-fd13-4d02-b5e3-f53d0e2fd7e0"
            },
            "outputs": [
                {
                    "output_type": "display_data",
                    "data": {
                        "text/html": "Commands completed successfully."
                    },
                    "metadata": {}
                },
                {
                    "output_type": "display_data",
                    "data": {
                        "text/html": "Commands completed successfully."
                    },
                    "metadata": {}
                },
                {
                    "output_type": "display_data",
                    "data": {
                        "text/html": "Total execution time: 00:00:00.076"
                    },
                    "metadata": {}
                }
            ],
            "execution_count": 1
        },
        {
            "cell_type": "markdown",
            "source": [
                "## Step 2: Create an external table using the data pool data source\r\n",
                "A table will created in each pod of the data pool matching this table schema. ROUND_ROBIN means rows will be placed in a round robin fashion in each pod of the pool"
            ],
            "metadata": {
                "azdata_cell_guid": "ca093666-ae8c-46a1-94c6-475c73b59e08"
            }
        },
        {
            "cell_type": "code",
            "source": [
                "IF NOT EXISTS(SELECT * FROM sys.external_tables WHERE name = 'web_clickstream_clicks_data_pool')\r\n",
                "    CREATE EXTERNAL TABLE [web_clickstream_clicks_data_pool]\r\n",
                "    (\"wcs_user_sk\" BIGINT , \"i_category_id\" BIGINT , \"clicks\" BIGINT)\r\n",
                "    WITH\r\n",
                "    (\r\n",
                "        DATA_SOURCE = SqlDataPool,\r\n",
                "        DISTRIBUTION = ROUND_ROBIN\r\n",
                "    );\r\n",
                "GO"
            ],
            "metadata": {
                "azdata_cell_guid": "5823842a-7105-4625-8f91-c146319a4897"
            },
            "outputs": [
                {
                    "output_type": "display_data",
                    "data": {
                        "text/html": "Commands completed successfully."
                    },
                    "metadata": {}
                },
                {
                    "output_type": "display_data",
                    "data": {
                        "text/html": "Total execution time: 00:00:00.012"
                    },
                    "metadata": {}
                }
            ],
            "execution_count": 2
        },
        {
            "cell_type": "markdown",
            "source": [
                "## Step 3: Ingest data in the data pool based on queries from HDFS joined with local SQL Server tables"
            ],
            "metadata": {
                "azdata_cell_guid": "c27d6a3a-c917-4c7f-8bd7-8d140a34ea2b"
            }
        },
        {
            "cell_type": "code",
            "source": [
                "INSERT INTO web_clickstream_clicks_data_pool\r\n",
                "SELECT wcs_user_sk, i_category_id, COUNT_BIG(*) as clicks\r\n",
                "  FROM sales.dbo.web_clickstreams_hdfs_csv\r\n",
                " INNER JOIN sales.dbo.item it ON (wcs_item_sk = i_item_sk\r\n",
                "                        AND wcs_user_sk IS NOT NULL)\r\n",
                " GROUP BY wcs_user_sk, i_category_id\r\n",
                "HAVING COUNT_BIG(*) > 100;\r\n",
                "GO"
            ],
            "metadata": {
                "azdata_cell_guid": "b8e948d8-dee1-4457-a320-4b06dac487ce"
            },
            "outputs": [
                {
                    "output_type": "display_data",
                    "data": {
                        "text/html": "(1932 rows affected)"
                    },
                    "metadata": {}
                },
                {
                    "output_type": "display_data",
                    "data": {
                        "text/html": "Total execution time: 00:00:21.036"
                    },
                    "metadata": {}
                }
            ],
            "execution_count": 3
        },
        {
            "cell_type": "markdown",
            "source": [
                "## Step 4: Query data from the external table in the data pool\r\n",
                ""
            ],
            "metadata": {
                "azdata_cell_guid": "b88abeba-58f8-45a1-b8c6-63cb43cbc28a"
            }
        },
        {
            "cell_type": "code",
            "source": [
                "SELECT count(*) FROM [dbo].[web_clickstream_clicks_data_pool];\r\n",
                "GO\r\n",
                "SELECT TOP 10 * FROM [dbo].[web_clickstream_clicks_data_pool]\r\n",
                "GO"
            ],
            "metadata": {
                "azdata_cell_guid": "4760fe66-522c-48ce-9dcc-ea50b2fafa92"
            },
            "outputs": [
                {
                    "output_type": "display_data",
                    "data": {
                        "text/html": "(1 row affected)"
                    },
                    "metadata": {}
                },
                {
                    "output_type": "execute_result",
                    "execution_count": 4,
                    "data": {
                        "application/vnd.dataresource+json": {
                            "schema": {
                                "fields": [
                                    {
                                        "name": "(No column name)"
                                    }
                                ]
                            },
                            "data": [
                                {
                                    "0": "3864"
                                }
                            ]
                        },
                        "text/html": "<table><tr><th>(No column name)</th></tr><tr><td>3864</td></tr></table>"
                    },
                    "metadata": {}
                },
                {
                    "output_type": "display_data",
                    "data": {
                        "text/html": "(10 rows affected)"
                    },
                    "metadata": {}
                },
                {
                    "output_type": "display_data",
                    "data": {
                        "text/html": "Total execution time: 00:00:03.959"
                    },
                    "metadata": {}
                },
                {
                    "output_type": "execute_result",
                    "execution_count": 4,
                    "data": {
                        "application/vnd.dataresource+json": {
                            "schema": {
                                "fields": [
                                    {
                                        "name": "wcs_user_sk"
                                    },
                                    {
                                        "name": "i_category_id"
                                    },
                                    {
                                        "name": "clicks"
                                    }
                                ]
                            },
                            "data": [
                                {
                                    "0": "18716",
                                    "1": "3",
                                    "2": "119"
                                },
                                {
                                    "0": "7705",
                                    "1": "2",
                                    "2": "258"
                                },
                                {
                                    "0": "55982",
                                    "1": "3",
                                    "2": "145"
                                },
                                {
                                    "0": "41825",
                                    "1": "3",
                                    "2": "169"
                                },
                                {
                                    "0": "43560",
                                    "1": "3",
                                    "2": "143"
                                },
                                {
                                    "0": "37106",
                                    "1": "3",
                                    "2": "165"
                                },
                                {
                                    "0": "21862",
                                    "1": "2",
                                    "2": "215"
                                },
                                {
                                    "0": "30814",
                                    "1": "2",
                                    "2": "198"
                                },
                                {
                                    "0": "34284",
                                    "1": "2",
                                    "2": "216"
                                },
                                {
                                    "0": "38517",
                                    "1": "2",
                                    "2": "198"
                                }
                            ]
                        },
                        "text/html": "<table><tr><th>wcs_user_sk</th><th>i_category_id</th><th>clicks</th></tr><tr><td>18716</td><td>3</td><td>119</td></tr><tr><td>7705</td><td>2</td><td>258</td></tr><tr><td>55982</td><td>3</td><td>145</td></tr><tr><td>41825</td><td>3</td><td>169</td></tr><tr><td>43560</td><td>3</td><td>143</td></tr><tr><td>37106</td><td>3</td><td>165</td></tr><tr><td>21862</td><td>2</td><td>215</td></tr><tr><td>30814</td><td>2</td><td>198</td></tr><tr><td>34284</td><td>2</td><td>216</td></tr><tr><td>38517</td><td>2</td><td>198</td></tr></table>"
                    },
                    "metadata": {}
                }
            ],
            "execution_count": 4
        },
        {
            "cell_type": "markdown",
            "source": [
                "## Step 5: Join data from the data pool external table with a local SQL Server table"
            ],
            "metadata": {
                "azdata_cell_guid": "797648f8-6aa4-4959-9fac-0da4236ed7f9"
            }
        },
        {
            "cell_type": "code",
            "source": [
                "SELECT TOP (100)\n",
                "    w.wcs_user_sk,\n",
                "    SUM( CASE WHEN i.i_category = 'Books' THEN w.clicks ELSE 0 END) AS book_category_clicks,\n",
                "    SUM( CASE WHEN w.i_category_id = 1 THEN w.clicks ELSE 0 END) AS [Home & Kitchen],\n",
                "    SUM( CASE WHEN w.i_category_id = 2 THEN w.clicks ELSE 0 END) AS [Music],\n",
                "    SUM( CASE WHEN w.i_category_id = 3 THEN w.clicks ELSE 0 END) AS [Books],\n",
                "    SUM( CASE WHEN w.i_category_id = 4 THEN w.clicks ELSE 0 END) AS [Clothing & Accessories],\n",
                "    SUM( CASE WHEN w.i_category_id = 5 THEN w.clicks ELSE 0 END) AS [Electronics],\n",
                "    SUM( CASE WHEN w.i_category_id = 6 THEN w.clicks ELSE 0 END) AS [Tools & Home Improvement],\n",
                "    SUM( CASE WHEN w.i_category_id = 7 THEN w.clicks ELSE 0 END) AS [Toys & Games],\n",
                "    SUM( CASE WHEN w.i_category_id = 8 THEN w.clicks ELSE 0 END) AS [Movies & TV],\n",
                "    SUM( CASE WHEN w.i_category_id = 9 THEN w.clicks ELSE 0 END) AS [Sports & Outdoors]\n",
                "  FROM [dbo].[web_clickstream_clicks_data_pool] as w\n",
                "  INNER JOIN (SELECT DISTINCT i_category_id, i_category FROM item) as i\n",
                "    ON i.i_category_id = w.i_category_id\n",
                "GROUP BY w.wcs_user_sk;\n",
                "GO"
            ],
            "metadata": {
                "azdata_cell_guid": "f9ecd285-7304-4ee9-9b76-f9b080968cf9"
            },
            "outputs": [
                {
                    "output_type": "display_data",
                    "data": {
                        "text/html": "(100 rows affected)"
                    },
                    "metadata": {}
                },
                {
                    "output_type": "display_data",
                    "data": {
                        "text/html": "Total execution time: 00:00:01.784"
                    },
                    "metadata": {}
                },
                {
                    "output_type": "execute_result",
                    "execution_count": 6,
                    "data": {
                        "application/vnd.dataresource+json": {
                            "schema": {
                                "fields": [
                                    {
                                        "name": "wcs_user_sk"
                                    },
                                    {
                                        "name": "book_category_clicks"
                                    },
                                    {
                                        "name": "Home &amp; Kitchen"
                                    },
                                    {
                                        "name": "Music"
                                    },
                                    {
                                        "name": "Books"
                                    },
                                    {
                                        "name": "Clothing &amp; Accessories"
                                    },
                                    {
                                        "name": "Electronics"
                                    },
                                    {
                                        "name": "Tools &amp; Home Improvement"
                                    },
                                    {
                                        "name": "Toys &amp; Games"
                                    },
                                    {
                                        "name": "Movies &amp; TV"
                                    },
                                    {
                                        "name": "Sports &amp; Outdoors"
                                    }
                                ]
                            },
                            "data": [
                                {
                                    "0": "41825",
                                    "1": "338",
                                    "2": "0",
                                    "3": "482",
                                    "4": "338",
                                    "5": "0",
                                    "6": "0",
                                    "7": "0",
                                    "8": "0",
                                    "9": "0",
                                    "10": "0"
                                },
                                {
                                    "0": "94335",
                                    "1": "300",
                                    "2": "0",
                                    "3": "424",
                                    "4": "300",
                                    "5": "0",
                                    "6": "0",
                                    "7": "0",
                                    "8": "0",
                                    "9": "0",
                                    "10": "0"
                                },
                                {
                                    "0": "4667",
                                    "1": "338",
                                    "2": "0",
                                    "3": "470",
                                    "4": "338",
                                    "5": "0",
                                    "6": "0",
                                    "7": "0",
                                    "8": "0",
                                    "9": "0",
                                    "10": "0"
                                },
                                {
                                    "0": "36019",
                                    "1": "244",
                                    "2": "0",
                                    "3": "448",
                                    "4": "244",
                                    "5": "0",
                                    "6": "0",
                                    "7": "0",
                                    "8": "0",
                                    "9": "0",
                                    "10": "0"
                                },
                                {
                                    "0": "66777",
                                    "1": "334",
                                    "2": "0",
                                    "3": "468",
                                    "4": "334",
                                    "5": "0",
                                    "6": "0",
                                    "7": "0",
                                    "8": "0",
                                    "9": "0",
                                    "10": "0"
                                },
                                {
                                    "0": "41663",
                                    "1": "214",
                                    "2": "0",
                                    "3": "380",
                                    "4": "214",
                                    "5": "0",
                                    "6": "0",
                                    "7": "0",
                                    "8": "0",
                                    "9": "0",
                                    "10": "0"
                                },
                                {
                                    "0": "24738",
                                    "1": "240",
                                    "2": "0",
                                    "3": "352",
                                    "4": "240",
                                    "5": "0",
                                    "6": "0",
                                    "7": "0",
                                    "8": "0",
                                    "9": "0",
                                    "10": "0"
                                },
                                {
                                    "0": "1683",
                                    "1": "368",
                                    "2": "0",
                                    "3": "532",
                                    "4": "368",
                                    "5": "0",
                                    "6": "0",
                                    "7": "0",
                                    "8": "0",
                                    "9": "0",
                                    "10": "0"
                                },
                                {
                                    "0": "58642",
                                    "1": "308",
                                    "2": "0",
                                    "3": "482",
                                    "4": "308",
                                    "5": "0",
                                    "6": "0",
                                    "7": "0",
                                    "8": "0",
                                    "9": "0",
                                    "10": "0"
                                },
                                {
                                    "0": "94173",
                                    "1": "0",
                                    "2": "0",
                                    "3": "284",
                                    "4": "0",
                                    "5": "0",
                                    "6": "0",
                                    "7": "0",
                                    "8": "0",
                                    "9": "0",
                                    "10": "0"
                                },
                                {
                                    "0": "29727",
                                    "1": "246",
                                    "2": "0",
                                    "3": "362",
                                    "4": "246",
                                    "5": "0",
                                    "6": "0",
                                    "7": "0",
                                    "8": "0",
                                    "9": "0",
                                    "10": "0"
                                },
                                {
                                    "0": "32549",
                                    "1": "266",
                                    "2": "0",
                                    "3": "432",
                                    "4": "266",
                                    "5": "0",
                                    "6": "0",
                                    "7": "0",
                                    "8": "0",
                                    "9": "0",
                                    "10": "0"
                                },
                                {
                                    "0": "40414",
                                    "1": "268",
                                    "2": "0",
                                    "3": "452",
                                    "4": "268",
                                    "5": "0",
                                    "6": "0",
                                    "7": "0",
                                    "8": "0",
                                    "9": "0",
                                    "10": "0"
                                },
                                {
                                    "0": "42419",
                                    "1": "0",
                                    "2": "0",
                                    "3": "204",
                                    "4": "0",
                                    "5": "0",
                                    "6": "0",
                                    "7": "0",
                                    "8": "0",
                                    "9": "0",
                                    "10": "0"
                                },
                                {
                                    "0": "272",
                                    "1": "266",
                                    "2": "0",
                                    "3": "462",
                                    "4": "266",
                                    "5": "0",
                                    "6": "0",
                                    "7": "0",
                                    "8": "0",
                                    "9": "0",
                                    "10": "0"
                                },
                                {
                                    "0": "64880",
                                    "1": "280",
                                    "2": "0",
                                    "3": "452",
                                    "4": "280",
                                    "5": "0",
                                    "6": "0",
                                    "7": "0",
                                    "8": "0",
                                    "9": "0",
                                    "10": "0"
                                },
                                {
                                    "0": "97643",
                                    "1": "440",
                                    "2": "0",
                                    "3": "624",
                                    "4": "440",
                                    "5": "0",
                                    "6": "0",
                                    "7": "0",
                                    "8": "0",
                                    "9": "0",
                                    "10": "0"
                                },
                                {
                                    "0": "70193",
                                    "1": "0",
                                    "2": "0",
                                    "3": "256",
                                    "4": "0",
                                    "5": "0",
                                    "6": "0",
                                    "7": "0",
                                    "8": "0",
                                    "9": "0",
                                    "10": "0"
                                },
                                {
                                    "0": "62382",
                                    "1": "266",
                                    "2": "0",
                                    "3": "420",
                                    "4": "266",
                                    "5": "0",
                                    "6": "0",
                                    "7": "0",
                                    "8": "0",
                                    "9": "0",
                                    "10": "0"
                                },
                                {
                                    "0": "68026",
                                    "1": "252",
                                    "2": "0",
                                    "3": "454",
                                    "4": "252",
                                    "5": "0",
                                    "6": "0",
                                    "7": "0",
                                    "8": "0",
                                    "9": "0",
                                    "10": "0"
                                },
                                {
                                    "0": "57825",
                                    "1": "0",
                                    "2": "0",
                                    "3": "266",
                                    "4": "0",
                                    "5": "0",
                                    "6": "0",
                                    "7": "0",
                                    "8": "0",
                                    "9": "0",
                                    "10": "0"
                                },
                                {
                                    "0": "45241",
                                    "1": "284",
                                    "2": "0",
                                    "3": "476",
                                    "4": "284",
                                    "5": "0",
                                    "6": "0",
                                    "7": "0",
                                    "8": "0",
                                    "9": "0",
                                    "10": "0"
                                },
                                {
                                    "0": "43830",
                                    "1": "0",
                                    "2": "0",
                                    "3": "252",
                                    "4": "0",
                                    "5": "0",
                                    "6": "0",
                                    "7": "0",
                                    "8": "0",
                                    "9": "0",
                                    "10": "0"
                                },
                                {
                                    "0": "92492",
                                    "1": "0",
                                    "2": "0",
                                    "3": "222",
                                    "4": "0",
                                    "5": "0",
                                    "6": "0",
                                    "7": "0",
                                    "8": "0",
                                    "9": "0",
                                    "10": "0"
                                },
                                {
                                    "0": "96232",
                                    "1": "294",
                                    "2": "0",
                                    "3": "512",
                                    "4": "294",
                                    "5": "0",
                                    "6": "0",
                                    "7": "0",
                                    "8": "0",
                                    "9": "0",
                                    "10": "0"
                                },
                                {
                                    "0": "49798",
                                    "1": "276",
                                    "2": "0",
                                    "3": "458",
                                    "4": "276",
                                    "5": "0",
                                    "6": "0",
                                    "7": "0",
                                    "8": "0",
                                    "9": "0",
                                    "10": "0"
                                },
                                {
                                    "0": "55496",
                                    "1": "0",
                                    "2": "0",
                                    "3": "298",
                                    "4": "0",
                                    "5": "0",
                                    "6": "0",
                                    "7": "0",
                                    "8": "0",
                                    "9": "0",
                                    "10": "0"
                                },
                                {
                                    "0": "43560",
                                    "1": "286",
                                    "2": "0",
                                    "3": "502",
                                    "4": "286",
                                    "5": "0",
                                    "6": "0",
                                    "7": "0",
                                    "8": "0",
                                    "9": "0",
                                    "10": "0"
                                },
                                {
                                    "0": "66939",
                                    "1": "272",
                                    "2": "0",
                                    "3": "384",
                                    "4": "272",
                                    "5": "0",
                                    "6": "0",
                                    "7": "0",
                                    "8": "0",
                                    "9": "0",
                                    "10": "0"
                                },
                                {
                                    "0": "30976",
                                    "1": "278",
                                    "2": "0",
                                    "3": "540",
                                    "4": "278",
                                    "5": "0",
                                    "6": "0",
                                    "7": "0",
                                    "8": "0",
                                    "9": "0",
                                    "10": "0"
                                },
                                {
                                    "0": "54247",
                                    "1": "296",
                                    "2": "0",
                                    "3": "524",
                                    "4": "296",
                                    "5": "0",
                                    "6": "0",
                                    "7": "0",
                                    "8": "0",
                                    "9": "0",
                                    "10": "0"
                                },
                                {
                                    "0": "37268",
                                    "1": "266",
                                    "2": "0",
                                    "3": "550",
                                    "4": "266",
                                    "5": "0",
                                    "6": "0",
                                    "7": "0",
                                    "8": "0",
                                    "9": "0",
                                    "10": "0"
                                },
                                {
                                    "0": "93086",
                                    "1": "222",
                                    "2": "0",
                                    "3": "366",
                                    "4": "222",
                                    "5": "0",
                                    "6": "0",
                                    "7": "0",
                                    "8": "0",
                                    "9": "0",
                                    "10": "0"
                                },
                                {
                                    "0": "47955",
                                    "1": "260",
                                    "2": "0",
                                    "3": "452",
                                    "4": "260",
                                    "5": "0",
                                    "6": "0",
                                    "7": "0",
                                    "8": "0",
                                    "9": "0",
                                    "10": "0"
                                },
                                {
                                    "0": "97805",
                                    "1": "306",
                                    "2": "0",
                                    "3": "458",
                                    "4": "306",
                                    "5": "0",
                                    "6": "0",
                                    "7": "0",
                                    "8": "0",
                                    "9": "0",
                                    "10": "0"
                                },
                                {
                                    "0": "79307",
                                    "1": "212",
                                    "2": "0",
                                    "3": "392",
                                    "4": "212",
                                    "5": "0",
                                    "6": "0",
                                    "7": "0",
                                    "8": "0",
                                    "9": "0",
                                    "10": "0"
                                },
                                {
                                    "0": "15948",
                                    "1": "216",
                                    "2": "0",
                                    "3": "334",
                                    "4": "216",
                                    "5": "0",
                                    "6": "0",
                                    "7": "0",
                                    "8": "0",
                                    "9": "0",
                                    "10": "0"
                                },
                                {
                                    "0": "6564",
                                    "1": "278",
                                    "2": "0",
                                    "3": "426",
                                    "4": "278",
                                    "5": "0",
                                    "6": "0",
                                    "7": "0",
                                    "8": "0",
                                    "9": "0",
                                    "10": "0"
                                },
                                {
                                    "0": "23003",
                                    "1": "0",
                                    "2": "0",
                                    "3": "278",
                                    "4": "0",
                                    "5": "0",
                                    "6": "0",
                                    "7": "0",
                                    "8": "0",
                                    "9": "0",
                                    "10": "0"
                                },
                                {
                                    "0": "18770",
                                    "1": "318",
                                    "2": "0",
                                    "3": "470",
                                    "4": "318",
                                    "5": "0",
                                    "6": "0",
                                    "7": "0",
                                    "8": "0",
                                    "9": "0",
                                    "10": "0"
                                },
                                {
                                    "0": "29133",
                                    "1": "0",
                                    "2": "0",
                                    "3": "210",
                                    "4": "0",
                                    "5": "0",
                                    "6": "0",
                                    "7": "0",
                                    "8": "0",
                                    "9": "0",
                                    "10": "0"
                                },
                                {
                                    "0": "24414",
                                    "1": "0",
                                    "2": "0",
                                    "3": "234",
                                    "4": "0",
                                    "5": "0",
                                    "6": "0",
                                    "7": "0",
                                    "8": "0",
                                    "9": "0",
                                    "10": "0"
                                },
                                {
                                    "0": "38409",
                                    "1": "0",
                                    "2": "0",
                                    "3": "246",
                                    "4": "0",
                                    "5": "0",
                                    "6": "0",
                                    "7": "0",
                                    "8": "0",
                                    "9": "0",
                                    "10": "0"
                                },
                                {
                                    "0": "45133",
                                    "1": "272",
                                    "2": "0",
                                    "3": "442",
                                    "4": "272",
                                    "5": "0",
                                    "6": "0",
                                    "7": "0",
                                    "8": "0",
                                    "9": "0",
                                    "10": "0"
                                },
                                {
                                    "0": "5153",
                                    "1": "0",
                                    "2": "0",
                                    "3": "310",
                                    "4": "0",
                                    "5": "0",
                                    "6": "0",
                                    "7": "0",
                                    "8": "0",
                                    "9": "0",
                                    "10": "0"
                                },
                                {
                                    "0": "46382",
                                    "1": "324",
                                    "2": "0",
                                    "3": "522",
                                    "4": "324",
                                    "5": "0",
                                    "6": "0",
                                    "7": "0",
                                    "8": "0",
                                    "9": "0",
                                    "10": "0"
                                },
                                {
                                    "0": "1845",
                                    "1": "304",
                                    "2": "0",
                                    "3": "544",
                                    "4": "304",
                                    "5": "0",
                                    "6": "0",
                                    "7": "0",
                                    "8": "0",
                                    "9": "0",
                                    "10": "0"
                                },
                                {
                                    "0": "62058",
                                    "1": "242",
                                    "2": "0",
                                    "3": "368",
                                    "4": "242",
                                    "5": "0",
                                    "6": "0",
                                    "7": "0",
                                    "8": "0",
                                    "9": "0",
                                    "10": "0"
                                },
                                {
                                    "0": "54355",
                                    "1": "390",
                                    "2": "0",
                                    "3": "614",
                                    "4": "390",
                                    "5": "0",
                                    "6": "0",
                                    "7": "0",
                                    "8": "0",
                                    "9": "0",
                                    "10": "0"
                                },
                                {
                                    "0": "20181",
                                    "1": "326",
                                    "2": "0",
                                    "3": "396",
                                    "4": "326",
                                    "5": "0",
                                    "6": "0",
                                    "7": "0",
                                    "8": "0",
                                    "9": "0",
                                    "10": "0"
                                },
                                {
                                    "0": "21592",
                                    "1": "258",
                                    "2": "0",
                                    "3": "468",
                                    "4": "258",
                                    "5": "0",
                                    "6": "0",
                                    "7": "0",
                                    "8": "0",
                                    "9": "0",
                                    "10": "0"
                                },
                                {
                                    "0": "60647",
                                    "1": "394",
                                    "2": "0",
                                    "3": "548",
                                    "4": "394",
                                    "5": "0",
                                    "6": "0",
                                    "7": "0",
                                    "8": "0",
                                    "9": "0",
                                    "10": "0"
                                },
                                {
                                    "0": "42966",
                                    "1": "0",
                                    "2": "0",
                                    "3": "276",
                                    "4": "0",
                                    "5": "0",
                                    "6": "0",
                                    "7": "0",
                                    "8": "0",
                                    "9": "0",
                                    "10": "0"
                                },
                                {
                                    "0": "52944",
                                    "1": "234",
                                    "2": "0",
                                    "3": "410",
                                    "4": "234",
                                    "5": "0",
                                    "6": "0",
                                    "7": "0",
                                    "8": "0",
                                    "9": "0",
                                    "10": "0"
                                },
                                {
                                    "0": "27884",
                                    "1": "348",
                                    "2": "0",
                                    "3": "586",
                                    "4": "348",
                                    "5": "0",
                                    "6": "0",
                                    "7": "0",
                                    "8": "0",
                                    "9": "0",
                                    "10": "0"
                                },
                                {
                                    "0": "59236",
                                    "1": "276",
                                    "2": "0",
                                    "3": "492",
                                    "4": "276",
                                    "5": "0",
                                    "6": "0",
                                    "7": "0",
                                    "8": "0",
                                    "9": "0",
                                    "10": "0"
                                },
                                {
                                    "0": "63469",
                                    "1": "322",
                                    "2": "0",
                                    "3": "516",
                                    "4": "322",
                                    "5": "0",
                                    "6": "0",
                                    "7": "0",
                                    "8": "0",
                                    "9": "0",
                                    "10": "0"
                                },
                                {
                                    "0": "68620",
                                    "1": "214",
                                    "2": "0",
                                    "3": "298",
                                    "4": "214",
                                    "5": "0",
                                    "6": "0",
                                    "7": "0",
                                    "8": "0",
                                    "9": "0",
                                    "10": "0"
                                },
                                {
                                    "0": "29295",
                                    "1": "254",
                                    "2": "0",
                                    "3": "436",
                                    "4": "254",
                                    "5": "0",
                                    "6": "0",
                                    "7": "0",
                                    "8": "0",
                                    "9": "0",
                                    "10": "0"
                                },
                                {
                                    "0": "74912",
                                    "1": "0",
                                    "2": "0",
                                    "3": "236",
                                    "4": "0",
                                    "5": "0",
                                    "6": "0",
                                    "7": "0",
                                    "8": "0",
                                    "9": "0",
                                    "10": "0"
                                },
                                {
                                    "0": "65528",
                                    "1": "0",
                                    "2": "0",
                                    "3": "262",
                                    "4": "0",
                                    "5": "0",
                                    "6": "0",
                                    "7": "0",
                                    "8": "0",
                                    "9": "0",
                                    "10": "0"
                                },
                                {
                                    "0": "71172",
                                    "1": "328",
                                    "2": "0",
                                    "3": "468",
                                    "4": "328",
                                    "5": "0",
                                    "6": "0",
                                    "7": "0",
                                    "8": "0",
                                    "9": "0",
                                    "10": "0"
                                },
                                {
                                    "0": "3742",
                                    "1": "0",
                                    "2": "0",
                                    "3": "202",
                                    "4": "0",
                                    "5": "0",
                                    "6": "0",
                                    "7": "0",
                                    "8": "0",
                                    "9": "0",
                                    "10": "0"
                                },
                                {
                                    "0": "91351",
                                    "1": "314",
                                    "2": "0",
                                    "3": "512",
                                    "4": "314",
                                    "5": "0",
                                    "6": "0",
                                    "7": "0",
                                    "8": "0",
                                    "9": "0",
                                    "10": "0"
                                },
                                {
                                    "0": "86848",
                                    "1": "312",
                                    "2": "0",
                                    "3": "576",
                                    "4": "312",
                                    "5": "0",
                                    "6": "0",
                                    "7": "0",
                                    "8": "0",
                                    "9": "0",
                                    "10": "0"
                                },
                                {
                                    "0": "65474",
                                    "1": "0",
                                    "2": "0",
                                    "3": "280",
                                    "4": "0",
                                    "5": "0",
                                    "6": "0",
                                    "7": "0",
                                    "8": "0",
                                    "9": "0",
                                    "10": "0"
                                },
                                {
                                    "0": "23435",
                                    "1": "250",
                                    "2": "0",
                                    "3": "426",
                                    "4": "250",
                                    "5": "0",
                                    "6": "0",
                                    "7": "0",
                                    "8": "0",
                                    "9": "0",
                                    "10": "0"
                                },
                                {
                                    "0": "92762",
                                    "1": "262",
                                    "2": "0",
                                    "3": "426",
                                    "4": "262",
                                    "5": "0",
                                    "6": "0",
                                    "7": "0",
                                    "8": "0",
                                    "9": "0",
                                    "10": "0"
                                },
                                {
                                    "0": "66885",
                                    "1": "266",
                                    "2": "0",
                                    "3": "446",
                                    "4": "266",
                                    "5": "0",
                                    "6": "0",
                                    "7": "0",
                                    "8": "0",
                                    "9": "0",
                                    "10": "0"
                                },
                                {
                                    "0": "67972",
                                    "1": "226",
                                    "2": "0",
                                    "3": "394",
                                    "4": "226",
                                    "5": "0",
                                    "6": "0",
                                    "7": "0",
                                    "8": "0",
                                    "9": "0",
                                    "10": "0"
                                },
                                {
                                    "0": "89940",
                                    "1": "290",
                                    "2": "0",
                                    "3": "502",
                                    "4": "290",
                                    "5": "0",
                                    "6": "0",
                                    "7": "0",
                                    "8": "0",
                                    "9": "0",
                                    "10": "0"
                                },
                                {
                                    "0": "50885",
                                    "1": "228",
                                    "2": "0",
                                    "3": "366",
                                    "4": "228",
                                    "5": "0",
                                    "6": "0",
                                    "7": "0",
                                    "8": "0",
                                    "9": "0",
                                    "10": "0"
                                },
                                {
                                    "0": "29241",
                                    "1": "272",
                                    "2": "0",
                                    "3": "390",
                                    "4": "272",
                                    "5": "0",
                                    "6": "0",
                                    "7": "0",
                                    "8": "0",
                                    "9": "0",
                                    "10": "0"
                                },
                                {
                                    "0": "56036",
                                    "1": "274",
                                    "2": "0",
                                    "3": "550",
                                    "4": "274",
                                    "5": "0",
                                    "6": "0",
                                    "7": "0",
                                    "8": "0",
                                    "9": "0",
                                    "10": "0"
                                },
                                {
                                    "0": "80286",
                                    "1": "266",
                                    "2": "0",
                                    "3": "376",
                                    "4": "266",
                                    "5": "0",
                                    "6": "0",
                                    "7": "0",
                                    "8": "0",
                                    "9": "0",
                                    "10": "0"
                                },
                                {
                                    "0": "77464",
                                    "1": "284",
                                    "2": "0",
                                    "3": "526",
                                    "4": "284",
                                    "5": "0",
                                    "6": "0",
                                    "7": "0",
                                    "8": "0",
                                    "9": "0",
                                    "10": "0"
                                },
                                {
                                    "0": "78875",
                                    "1": "258",
                                    "2": "0",
                                    "3": "398",
                                    "4": "258",
                                    "5": "0",
                                    "6": "0",
                                    "7": "0",
                                    "8": "0",
                                    "9": "0",
                                    "10": "0"
                                },
                                {
                                    "0": "83648",
                                    "1": "0",
                                    "2": "0",
                                    "3": "366",
                                    "4": "0",
                                    "5": "0",
                                    "6": "0",
                                    "7": "0",
                                    "8": "0",
                                    "9": "0",
                                    "10": "0"
                                },
                                {
                                    "0": "5261",
                                    "1": "0",
                                    "2": "0",
                                    "3": "278",
                                    "4": "0",
                                    "5": "0",
                                    "6": "0",
                                    "7": "0",
                                    "8": "0",
                                    "9": "0",
                                    "10": "0"
                                },
                                {
                                    "0": "46652",
                                    "1": "316",
                                    "2": "0",
                                    "3": "576",
                                    "4": "316",
                                    "5": "0",
                                    "6": "0",
                                    "7": "0",
                                    "8": "0",
                                    "9": "0",
                                    "10": "0"
                                },
                                {
                                    "0": "58588",
                                    "1": "0",
                                    "2": "0",
                                    "3": "300",
                                    "4": "0",
                                    "5": "0",
                                    "6": "0",
                                    "7": "0",
                                    "8": "0",
                                    "9": "0",
                                    "10": "0"
                                },
                                {
                                    "0": "76053",
                                    "1": "284",
                                    "2": "0",
                                    "3": "408",
                                    "4": "284",
                                    "5": "0",
                                    "6": "0",
                                    "7": "0",
                                    "8": "0",
                                    "9": "0",
                                    "10": "0"
                                },
                                {
                                    "0": "89670",
                                    "1": "268",
                                    "2": "0",
                                    "3": "416",
                                    "4": "268",
                                    "5": "0",
                                    "6": "0",
                                    "7": "0",
                                    "8": "0",
                                    "9": "0",
                                    "10": "0"
                                },
                                {
                                    "0": "83108",
                                    "1": "0",
                                    "2": "0",
                                    "3": "210",
                                    "4": "0",
                                    "5": "0",
                                    "6": "0",
                                    "7": "0",
                                    "8": "0",
                                    "9": "0",
                                    "10": "0"
                                },
                                {
                                    "0": "48063",
                                    "1": "374",
                                    "2": "0",
                                    "3": "718",
                                    "4": "374",
                                    "5": "0",
                                    "6": "0",
                                    "7": "0",
                                    "8": "0",
                                    "9": "0",
                                    "10": "0"
                                },
                                {
                                    "0": "53214",
                                    "1": "0",
                                    "2": "0",
                                    "3": "306",
                                    "4": "0",
                                    "5": "0",
                                    "6": "0",
                                    "7": "0",
                                    "8": "0",
                                    "9": "0",
                                    "10": "0"
                                },
                                {
                                    "0": "84026",
                                    "1": "0",
                                    "2": "0",
                                    "3": "242",
                                    "4": "0",
                                    "5": "0",
                                    "6": "0",
                                    "7": "0",
                                    "8": "0",
                                    "9": "0",
                                    "10": "0"
                                },
                                {
                                    "0": "52296",
                                    "1": "0",
                                    "2": "0",
                                    "3": "316",
                                    "4": "0",
                                    "5": "0",
                                    "6": "0",
                                    "7": "0",
                                    "8": "0",
                                    "9": "0",
                                    "10": "0"
                                },
                                {
                                    "0": "67702",
                                    "1": "0",
                                    "2": "0",
                                    "3": "262",
                                    "4": "0",
                                    "5": "0",
                                    "6": "0",
                                    "7": "0",
                                    "8": "0",
                                    "9": "0",
                                    "10": "0"
                                },
                                {
                                    "0": "93140",
                                    "1": "0",
                                    "2": "0",
                                    "3": "322",
                                    "4": "0",
                                    "5": "0",
                                    "6": "0",
                                    "7": "0",
                                    "8": "0",
                                    "9": "0",
                                    "10": "0"
                                },
                                {
                                    "0": "20073",
                                    "1": "0",
                                    "2": "0",
                                    "3": "288",
                                    "4": "0",
                                    "5": "0",
                                    "6": "0",
                                    "7": "0",
                                    "8": "0",
                                    "9": "0",
                                    "10": "0"
                                },
                                {
                                    "0": "49474",
                                    "1": "316",
                                    "2": "0",
                                    "3": "436",
                                    "4": "316",
                                    "5": "0",
                                    "6": "0",
                                    "7": "0",
                                    "8": "0",
                                    "9": "0",
                                    "10": "0"
                                },
                                {
                                    "0": "41717",
                                    "1": "254",
                                    "2": "0",
                                    "3": "346",
                                    "4": "254",
                                    "5": "0",
                                    "6": "0",
                                    "7": "0",
                                    "8": "0",
                                    "9": "0",
                                    "10": "0"
                                },
                                {
                                    "0": "58858",
                                    "1": "264",
                                    "2": "0",
                                    "3": "496",
                                    "4": "264",
                                    "5": "0",
                                    "6": "0",
                                    "7": "0",
                                    "8": "0",
                                    "9": "0",
                                    "10": "0"
                                },
                                {
                                    "0": "77086",
                                    "1": "216",
                                    "2": "0",
                                    "3": "422",
                                    "4": "216",
                                    "5": "0",
                                    "6": "0",
                                    "7": "0",
                                    "8": "0",
                                    "9": "0",
                                    "10": "0"
                                },
                                {
                                    "0": "17251",
                                    "1": "298",
                                    "2": "0",
                                    "3": "524",
                                    "4": "298",
                                    "5": "0",
                                    "6": "0",
                                    "7": "0",
                                    "8": "0",
                                    "9": "0",
                                    "10": "0"
                                },
                                {
                                    "0": "74264",
                                    "1": "294",
                                    "2": "0",
                                    "3": "584",
                                    "4": "294",
                                    "5": "0",
                                    "6": "0",
                                    "7": "0",
                                    "8": "0",
                                    "9": "0",
                                    "10": "0"
                                },
                                {
                                    "0": "7489",
                                    "1": "0",
                                    "2": "0",
                                    "3": "288",
                                    "4": "0",
                                    "5": "0",
                                    "6": "0",
                                    "7": "0",
                                    "8": "0",
                                    "9": "0",
                                    "10": "0"
                                },
                                {
                                    "0": "59999",
                                    "1": "0",
                                    "2": "0",
                                    "3": "280",
                                    "4": "0",
                                    "5": "0",
                                    "6": "0",
                                    "7": "0",
                                    "8": "0",
                                    "9": "0",
                                    "10": "0"
                                },
                                {
                                    "0": "74858",
                                    "1": "0",
                                    "2": "0",
                                    "3": "216",
                                    "4": "0",
                                    "5": "0",
                                    "6": "0",
                                    "7": "0",
                                    "8": "0",
                                    "9": "0",
                                    "10": "0"
                                }
                            ]
                        },
                        "text/html": "<table><tr><th>wcs_user_sk</th><th>book_category_clicks</th><th>Home &amp; Kitchen</th><th>Music</th><th>Books</th><th>Clothing &amp; Accessories</th><th>Electronics</th><th>Tools &amp; Home Improvement</th><th>Toys &amp; Games</th><th>Movies &amp; TV</th><th>Sports &amp; Outdoors</th></tr><tr><td>41825</td><td>338</td><td>0</td><td>482</td><td>338</td><td>0</td><td>0</td><td>0</td><td>0</td><td>0</td><td>0</td></tr><tr><td>94335</td><td>300</td><td>0</td><td>424</td><td>300</td><td>0</td><td>0</td><td>0</td><td>0</td><td>0</td><td>0</td></tr><tr><td>4667</td><td>338</td><td>0</td><td>470</td><td>338</td><td>0</td><td>0</td><td>0</td><td>0</td><td>0</td><td>0</td></tr><tr><td>36019</td><td>244</td><td>0</td><td>448</td><td>244</td><td>0</td><td>0</td><td>0</td><td>0</td><td>0</td><td>0</td></tr><tr><td>66777</td><td>334</td><td>0</td><td>468</td><td>334</td><td>0</td><td>0</td><td>0</td><td>0</td><td>0</td><td>0</td></tr><tr><td>41663</td><td>214</td><td>0</td><td>380</td><td>214</td><td>0</td><td>0</td><td>0</td><td>0</td><td>0</td><td>0</td></tr><tr><td>24738</td><td>240</td><td>0</td><td>352</td><td>240</td><td>0</td><td>0</td><td>0</td><td>0</td><td>0</td><td>0</td></tr><tr><td>1683</td><td>368</td><td>0</td><td>532</td><td>368</td><td>0</td><td>0</td><td>0</td><td>0</td><td>0</td><td>0</td></tr><tr><td>58642</td><td>308</td><td>0</td><td>482</td><td>308</td><td>0</td><td>0</td><td>0</td><td>0</td><td>0</td><td>0</td></tr><tr><td>94173</td><td>0</td><td>0</td><td>284</td><td>0</td><td>0</td><td>0</td><td>0</td><td>0</td><td>0</td><td>0</td></tr><tr><td>29727</td><td>246</td><td>0</td><td>362</td><td>246</td><td>0</td><td>0</td><td>0</td><td>0</td><td>0</td><td>0</td></tr><tr><td>32549</td><td>266</td><td>0</td><td>432</td><td>266</td><td>0</td><td>0</td><td>0</td><td>0</td><td>0</td><td>0</td></tr><tr><td>40414</td><td>268</td><td>0</td><td>452</td><td>268</td><td>0</td><td>0</td><td>0</td><td>0</td><td>0</td><td>0</td></tr><tr><td>42419</td><td>0</td><td>0</td><td>204</td><td>0</td><td>0</td><td>0</td><td>0</td><td>0</td><td>0</td><td>0</td></tr><tr><td>272</td><td>266</td><td>0</td><td>462</td><td>266</td><td>0</td><td>0</td><td>0</td><td>0</td><td>0</td><td>0</td></tr><tr><td>64880</td><td>280</td><td>0</td><td>452</td><td>280</td><td>0</td><td>0</td><td>0</td><td>0</td><td>0</td><td>0</td></tr><tr><td>97643</td><td>440</td><td>0</td><td>624</td><td>440</td><td>0</td><td>0</td><td>0</td><td>0</td><td>0</td><td>0</td></tr><tr><td>70193</td><td>0</td><td>0</td><td>256</td><td>0</td><td>0</td><td>0</td><td>0</td><td>0</td><td>0</td><td>0</td></tr><tr><td>62382</td><td>266</td><td>0</td><td>420</td><td>266</td><td>0</td><td>0</td><td>0</td><td>0</td><td>0</td><td>0</td></tr><tr><td>68026</td><td>252</td><td>0</td><td>454</td><td>252</td><td>0</td><td>0</td><td>0</td><td>0</td><td>0</td><td>0</td></tr><tr><td>57825</td><td>0</td><td>0</td><td>266</td><td>0</td><td>0</td><td>0</td><td>0</td><td>0</td><td>0</td><td>0</td></tr><tr><td>45241</td><td>284</td><td>0</td><td>476</td><td>284</td><td>0</td><td>0</td><td>0</td><td>0</td><td>0</td><td>0</td></tr><tr><td>43830</td><td>0</td><td>0</td><td>252</td><td>0</td><td>0</td><td>0</td><td>0</td><td>0</td><td>0</td><td>0</td></tr><tr><td>92492</td><td>0</td><td>0</td><td>222</td><td>0</td><td>0</td><td>0</td><td>0</td><td>0</td><td>0</td><td>0</td></tr><tr><td>96232</td><td>294</td><td>0</td><td>512</td><td>294</td><td>0</td><td>0</td><td>0</td><td>0</td><td>0</td><td>0</td></tr><tr><td>49798</td><td>276</td><td>0</td><td>458</td><td>276</td><td>0</td><td>0</td><td>0</td><td>0</td><td>0</td><td>0</td></tr><tr><td>55496</td><td>0</td><td>0</td><td>298</td><td>0</td><td>0</td><td>0</td><td>0</td><td>0</td><td>0</td><td>0</td></tr><tr><td>43560</td><td>286</td><td>0</td><td>502</td><td>286</td><td>0</td><td>0</td><td>0</td><td>0</td><td>0</td><td>0</td></tr><tr><td>66939</td><td>272</td><td>0</td><td>384</td><td>272</td><td>0</td><td>0</td><td>0</td><td>0</td><td>0</td><td>0</td></tr><tr><td>30976</td><td>278</td><td>0</td><td>540</td><td>278</td><td>0</td><td>0</td><td>0</td><td>0</td><td>0</td><td>0</td></tr><tr><td>54247</td><td>296</td><td>0</td><td>524</td><td>296</td><td>0</td><td>0</td><td>0</td><td>0</td><td>0</td><td>0</td></tr><tr><td>37268</td><td>266</td><td>0</td><td>550</td><td>266</td><td>0</td><td>0</td><td>0</td><td>0</td><td>0</td><td>0</td></tr><tr><td>93086</td><td>222</td><td>0</td><td>366</td><td>222</td><td>0</td><td>0</td><td>0</td><td>0</td><td>0</td><td>0</td></tr><tr><td>47955</td><td>260</td><td>0</td><td>452</td><td>260</td><td>0</td><td>0</td><td>0</td><td>0</td><td>0</td><td>0</td></tr><tr><td>97805</td><td>306</td><td>0</td><td>458</td><td>306</td><td>0</td><td>0</td><td>0</td><td>0</td><td>0</td><td>0</td></tr><tr><td>79307</td><td>212</td><td>0</td><td>392</td><td>212</td><td>0</td><td>0</td><td>0</td><td>0</td><td>0</td><td>0</td></tr><tr><td>15948</td><td>216</td><td>0</td><td>334</td><td>216</td><td>0</td><td>0</td><td>0</td><td>0</td><td>0</td><td>0</td></tr><tr><td>6564</td><td>278</td><td>0</td><td>426</td><td>278</td><td>0</td><td>0</td><td>0</td><td>0</td><td>0</td><td>0</td></tr><tr><td>23003</td><td>0</td><td>0</td><td>278</td><td>0</td><td>0</td><td>0</td><td>0</td><td>0</td><td>0</td><td>0</td></tr><tr><td>18770</td><td>318</td><td>0</td><td>470</td><td>318</td><td>0</td><td>0</td><td>0</td><td>0</td><td>0</td><td>0</td></tr><tr><td>29133</td><td>0</td><td>0</td><td>210</td><td>0</td><td>0</td><td>0</td><td>0</td><td>0</td><td>0</td><td>0</td></tr><tr><td>24414</td><td>0</td><td>0</td><td>234</td><td>0</td><td>0</td><td>0</td><td>0</td><td>0</td><td>0</td><td>0</td></tr><tr><td>38409</td><td>0</td><td>0</td><td>246</td><td>0</td><td>0</td><td>0</td><td>0</td><td>0</td><td>0</td><td>0</td></tr><tr><td>45133</td><td>272</td><td>0</td><td>442</td><td>272</td><td>0</td><td>0</td><td>0</td><td>0</td><td>0</td><td>0</td></tr><tr><td>5153</td><td>0</td><td>0</td><td>310</td><td>0</td><td>0</td><td>0</td><td>0</td><td>0</td><td>0</td><td>0</td></tr><tr><td>46382</td><td>324</td><td>0</td><td>522</td><td>324</td><td>0</td><td>0</td><td>0</td><td>0</td><td>0</td><td>0</td></tr><tr><td>1845</td><td>304</td><td>0</td><td>544</td><td>304</td><td>0</td><td>0</td><td>0</td><td>0</td><td>0</td><td>0</td></tr><tr><td>62058</td><td>242</td><td>0</td><td>368</td><td>242</td><td>0</td><td>0</td><td>0</td><td>0</td><td>0</td><td>0</td></tr><tr><td>54355</td><td>390</td><td>0</td><td>614</td><td>390</td><td>0</td><td>0</td><td>0</td><td>0</td><td>0</td><td>0</td></tr><tr><td>20181</td><td>326</td><td>0</td><td>396</td><td>326</td><td>0</td><td>0</td><td>0</td><td>0</td><td>0</td><td>0</td></tr><tr><td>21592</td><td>258</td><td>0</td><td>468</td><td>258</td><td>0</td><td>0</td><td>0</td><td>0</td><td>0</td><td>0</td></tr><tr><td>60647</td><td>394</td><td>0</td><td>548</td><td>394</td><td>0</td><td>0</td><td>0</td><td>0</td><td>0</td><td>0</td></tr><tr><td>42966</td><td>0</td><td>0</td><td>276</td><td>0</td><td>0</td><td>0</td><td>0</td><td>0</td><td>0</td><td>0</td></tr><tr><td>52944</td><td>234</td><td>0</td><td>410</td><td>234</td><td>0</td><td>0</td><td>0</td><td>0</td><td>0</td><td>0</td></tr><tr><td>27884</td><td>348</td><td>0</td><td>586</td><td>348</td><td>0</td><td>0</td><td>0</td><td>0</td><td>0</td><td>0</td></tr><tr><td>59236</td><td>276</td><td>0</td><td>492</td><td>276</td><td>0</td><td>0</td><td>0</td><td>0</td><td>0</td><td>0</td></tr><tr><td>63469</td><td>322</td><td>0</td><td>516</td><td>322</td><td>0</td><td>0</td><td>0</td><td>0</td><td>0</td><td>0</td></tr><tr><td>68620</td><td>214</td><td>0</td><td>298</td><td>214</td><td>0</td><td>0</td><td>0</td><td>0</td><td>0</td><td>0</td></tr><tr><td>29295</td><td>254</td><td>0</td><td>436</td><td>254</td><td>0</td><td>0</td><td>0</td><td>0</td><td>0</td><td>0</td></tr><tr><td>74912</td><td>0</td><td>0</td><td>236</td><td>0</td><td>0</td><td>0</td><td>0</td><td>0</td><td>0</td><td>0</td></tr><tr><td>65528</td><td>0</td><td>0</td><td>262</td><td>0</td><td>0</td><td>0</td><td>0</td><td>0</td><td>0</td><td>0</td></tr><tr><td>71172</td><td>328</td><td>0</td><td>468</td><td>328</td><td>0</td><td>0</td><td>0</td><td>0</td><td>0</td><td>0</td></tr><tr><td>3742</td><td>0</td><td>0</td><td>202</td><td>0</td><td>0</td><td>0</td><td>0</td><td>0</td><td>0</td><td>0</td></tr><tr><td>91351</td><td>314</td><td>0</td><td>512</td><td>314</td><td>0</td><td>0</td><td>0</td><td>0</td><td>0</td><td>0</td></tr><tr><td>86848</td><td>312</td><td>0</td><td>576</td><td>312</td><td>0</td><td>0</td><td>0</td><td>0</td><td>0</td><td>0</td></tr><tr><td>65474</td><td>0</td><td>0</td><td>280</td><td>0</td><td>0</td><td>0</td><td>0</td><td>0</td><td>0</td><td>0</td></tr><tr><td>23435</td><td>250</td><td>0</td><td>426</td><td>250</td><td>0</td><td>0</td><td>0</td><td>0</td><td>0</td><td>0</td></tr><tr><td>92762</td><td>262</td><td>0</td><td>426</td><td>262</td><td>0</td><td>0</td><td>0</td><td>0</td><td>0</td><td>0</td></tr><tr><td>66885</td><td>266</td><td>0</td><td>446</td><td>266</td><td>0</td><td>0</td><td>0</td><td>0</td><td>0</td><td>0</td></tr><tr><td>67972</td><td>226</td><td>0</td><td>394</td><td>226</td><td>0</td><td>0</td><td>0</td><td>0</td><td>0</td><td>0</td></tr><tr><td>89940</td><td>290</td><td>0</td><td>502</td><td>290</td><td>0</td><td>0</td><td>0</td><td>0</td><td>0</td><td>0</td></tr><tr><td>50885</td><td>228</td><td>0</td><td>366</td><td>228</td><td>0</td><td>0</td><td>0</td><td>0</td><td>0</td><td>0</td></tr><tr><td>29241</td><td>272</td><td>0</td><td>390</td><td>272</td><td>0</td><td>0</td><td>0</td><td>0</td><td>0</td><td>0</td></tr><tr><td>56036</td><td>274</td><td>0</td><td>550</td><td>274</td><td>0</td><td>0</td><td>0</td><td>0</td><td>0</td><td>0</td></tr><tr><td>80286</td><td>266</td><td>0</td><td>376</td><td>266</td><td>0</td><td>0</td><td>0</td><td>0</td><td>0</td><td>0</td></tr><tr><td>77464</td><td>284</td><td>0</td><td>526</td><td>284</td><td>0</td><td>0</td><td>0</td><td>0</td><td>0</td><td>0</td></tr><tr><td>78875</td><td>258</td><td>0</td><td>398</td><td>258</td><td>0</td><td>0</td><td>0</td><td>0</td><td>0</td><td>0</td></tr><tr><td>83648</td><td>0</td><td>0</td><td>366</td><td>0</td><td>0</td><td>0</td><td>0</td><td>0</td><td>0</td><td>0</td></tr><tr><td>5261</td><td>0</td><td>0</td><td>278</td><td>0</td><td>0</td><td>0</td><td>0</td><td>0</td><td>0</td><td>0</td></tr><tr><td>46652</td><td>316</td><td>0</td><td>576</td><td>316</td><td>0</td><td>0</td><td>0</td><td>0</td><td>0</td><td>0</td></tr><tr><td>58588</td><td>0</td><td>0</td><td>300</td><td>0</td><td>0</td><td>0</td><td>0</td><td>0</td><td>0</td><td>0</td></tr><tr><td>76053</td><td>284</td><td>0</td><td>408</td><td>284</td><td>0</td><td>0</td><td>0</td><td>0</td><td>0</td><td>0</td></tr><tr><td>89670</td><td>268</td><td>0</td><td>416</td><td>268</td><td>0</td><td>0</td><td>0</td><td>0</td><td>0</td><td>0</td></tr><tr><td>83108</td><td>0</td><td>0</td><td>210</td><td>0</td><td>0</td><td>0</td><td>0</td><td>0</td><td>0</td><td>0</td></tr><tr><td>48063</td><td>374</td><td>0</td><td>718</td><td>374</td><td>0</td><td>0</td><td>0</td><td>0</td><td>0</td><td>0</td></tr><tr><td>53214</td><td>0</td><td>0</td><td>306</td><td>0</td><td>0</td><td>0</td><td>0</td><td>0</td><td>0</td><td>0</td></tr><tr><td>84026</td><td>0</td><td>0</td><td>242</td><td>0</td><td>0</td><td>0</td><td>0</td><td>0</td><td>0</td><td>0</td></tr><tr><td>52296</td><td>0</td><td>0</td><td>316</td><td>0</td><td>0</td><td>0</td><td>0</td><td>0</td><td>0</td><td>0</td></tr><tr><td>67702</td><td>0</td><td>0</td><td>262</td><td>0</td><td>0</td><td>0</td><td>0</td><td>0</td><td>0</td><td>0</td></tr><tr><td>93140</td><td>0</td><td>0</td><td>322</td><td>0</td><td>0</td><td>0</td><td>0</td><td>0</td><td>0</td><td>0</td></tr><tr><td>20073</td><td>0</td><td>0</td><td>288</td><td>0</td><td>0</td><td>0</td><td>0</td><td>0</td><td>0</td><td>0</td></tr><tr><td>49474</td><td>316</td><td>0</td><td>436</td><td>316</td><td>0</td><td>0</td><td>0</td><td>0</td><td>0</td><td>0</td></tr><tr><td>41717</td><td>254</td><td>0</td><td>346</td><td>254</td><td>0</td><td>0</td><td>0</td><td>0</td><td>0</td><td>0</td></tr><tr><td>58858</td><td>264</td><td>0</td><td>496</td><td>264</td><td>0</td><td>0</td><td>0</td><td>0</td><td>0</td><td>0</td></tr><tr><td>77086</td><td>216</td><td>0</td><td>422</td><td>216</td><td>0</td><td>0</td><td>0</td><td>0</td><td>0</td><td>0</td></tr><tr><td>17251</td><td>298</td><td>0</td><td>524</td><td>298</td><td>0</td><td>0</td><td>0</td><td>0</td><td>0</td><td>0</td></tr><tr><td>74264</td><td>294</td><td>0</td><td>584</td><td>294</td><td>0</td><td>0</td><td>0</td><td>0</td><td>0</td><td>0</td></tr><tr><td>7489</td><td>0</td><td>0</td><td>288</td><td>0</td><td>0</td><td>0</td><td>0</td><td>0</td><td>0</td><td>0</td></tr><tr><td>59999</td><td>0</td><td>0</td><td>280</td><td>0</td><td>0</td><td>0</td><td>0</td><td>0</td><td>0</td><td>0</td></tr><tr><td>74858</td><td>0</td><td>0</td><td>216</td><td>0</td><td>0</td><td>0</td><td>0</td><td>0</td><td>0</td><td>0</td></tr></table>"
                    },
                    "metadata": {}
                }
            ],
            "execution_count": 6
        }
    ]
}